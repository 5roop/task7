{
 "cells": [
  {
   "cell_type": "code",
   "execution_count": 1,
   "metadata": {},
   "outputs": [],
   "source": [
    "import os\n",
    "from utils import read_prevert, count_variants, get_lexicon, counts_to_category\n",
    "\n",
    "lex = get_lexicon()\n",
    "directory = \"crawldata/\"\n",
    "files = os.listdir(directory)\n",
    "for file in files:\n",
    "    df = read_prevert(os.path.join(directory, file))\n",
    "    df[\"variant_detector_count\"] = df.text.apply(lambda s: count_variants(s, lex)[0])\n",
    "    df[\"variant_detector_breakdown\"] = df.text.apply(lambda s: count_variants(s, lex)[1])\n",
    "    df[\"words\"] = df.text.apply(lambda t: len(t.split()))\n",
    "    df[\"A_B\"] = df.variant_detector_count.apply(lambda d:d.get(\"A\", 0) - d.get(\"B\", 0))\n",
    "    df[\"A_B_normalized\"] = df.A_B / df.words\n",
    "    df[\"variant\"] = df.variant_detector_count.apply(counts_to_category)\n",
    "    break"
   ]
  },
  {
   "cell_type": "code",
   "execution_count": 8,
   "metadata": {},
   "outputs": [],
   "source": [
    "%load_ext line_profiler\n"
   ]
  },
  {
   "cell_type": "code",
   "execution_count": 12,
   "metadata": {},
   "outputs": [
    {
     "name": "stdout",
     "output_type": "stream",
     "text": [
      "CPU times: user 7.06 s, sys: 14.9 ms, total: 7.08 s\n",
      "Wall time: 7.08 s\n"
     ]
    }
   ],
   "source": [
    "%%time\n",
    "df[\"variant_detector_count\"] = df.text.apply(lambda s: count_variants(s, lex)[0])\n",
    "df[\"variant_detector_breakdown\"] = df.text.apply(lambda s: count_variants(s, lex)[1])\n",
    "df[\"words\"] = df.text.apply(lambda t: len(t.split()))\n",
    "df[\"A_B\"] = df.variant_detector_count.apply(lambda d:d.get(\"A\", 0) - d.get(\"B\", 0))\n",
    "df[\"A_B_normalized\"] = df.A_B / df.words\n",
    "df[\"variant\"] = df.variant_detector_count.apply(counts_to_category)\n"
   ]
  },
  {
   "cell_type": "code",
   "execution_count": 2,
   "metadata": {},
   "outputs": [
    {
     "data": {
      "text/html": [
       "<div>\n",
       "<style scoped>\n",
       "    .dataframe tbody tr th:only-of-type {\n",
       "        vertical-align: middle;\n",
       "    }\n",
       "\n",
       "    .dataframe tbody tr th {\n",
       "        vertical-align: top;\n",
       "    }\n",
       "\n",
       "    .dataframe thead th {\n",
       "        text-align: right;\n",
       "    }\n",
       "</style>\n",
       "<table border=\"1\" class=\"dataframe\">\n",
       "  <thead>\n",
       "    <tr style=\"text-align: right;\">\n",
       "      <th></th>\n",
       "      <th>variant</th>\n",
       "      <th>variant_detector_breakdown</th>\n",
       "      <th>text</th>\n",
       "    </tr>\n",
       "  </thead>\n",
       "  <tbody>\n",
       "    <tr>\n",
       "      <th>3844</th>\n",
       "      <td>A</td>\n",
       "      <td>{'store': {'variant': 'A', 'count': 2}}</td>\n",
       "      <td>Products     Login or Create an Account     New Customers     By creating an account with our store, you will be able to move through the checkout process faster, store multiple shipping addresses, view and track your orders in your account and more.     Registered Customers     If you have an account with us, please log in.     *Email Address     *Password     What's this?     Checking \"Reme...</td>\n",
       "    </tr>\n",
       "    <tr>\n",
       "      <th>5884</th>\n",
       "      <td>A</td>\n",
       "      <td>{'analyze': {'variant': 'A', 'count': 1}, 'store': {'variant': 'A', 'count': 1}}</td>\n",
       "      <td>Stilski predlogi za nošenje trenč plašča     Trenč plašč, eden tistih klasičnih modnih kosov, ki je kakor nalašč za te prehodne mesece, ko smo poletna oblačila že pospravile na dno omare, a je vsekakor še prezgodaj, da bi naši zimski plašči prišli na plan. Klasičen “trenč” bi v resnici moral viseti v prav vsaki ženski omari, kombiniramo ga lahko namreč tako na krila, hlače in obleke, za dodat...</td>\n",
       "    </tr>\n",
       "    <tr>\n",
       "      <th>183</th>\n",
       "      <td>B</td>\n",
       "      <td>{'specialised': {'variant': 'B', 'count': 1}}</td>\n",
       "      <td>Design     Take in the diversity of the Slovenian design scene - from fashion and interior to graphic and industrial designers and creative industry experts who are making marks worldwide.     Since then the biennial has become a notable and respected event to evaluate and award Slovenian design in about seven categories. The biennial has come to provide a specialised and expert-based overvie...</td>\n",
       "    </tr>\n",
       "    <tr>\n",
       "      <th>272</th>\n",
       "      <td>MIX</td>\n",
       "      <td>{'analyse': {'variant': 'B', 'count': 1}, 'analyzed': {'variant': 'A', 'count': 1}, 'acknowledgements': {'variant': 'B', 'count': 1}, 'center': {'variant': 'A', 'count': 1}}</td>\n",
       "      <td>Korenine / Origin / Herkunft     LINGUISTIC COMPUTATIONAL ANALYSIS TO MEASURE THE DISTANCES BETWEEN ANCIENT VENETIC, LATIN, AND SLOVENIAN LANGUAGES     M. Silvestri1, Giancarlo Tomezzoli2     1 Via Faliero 16, I-37138 Verona , Italy     2 Zeppelinstrasse 43, D-81669 Munich, Germany     Abstract     In this paper we analyse the linguistic distances between the ancient Venetic, Latin, and Slove...</td>\n",
       "    </tr>\n",
       "    <tr>\n",
       "      <th>632</th>\n",
       "      <td>A</td>\n",
       "      <td>{'store': {'variant': 'A', 'count': 6}}</td>\n",
       "      <td>64. Ljubljana Festival     Project Description     V letu 2016 smo grafično opremili dogodke pod okriljem 64. Festivala Ljubljana, ki potekajo v Ljubljani preko poletnih mesecev. Oblikovali smo smo oglase, napovednike dogodkov, plakate, programske knjižice, zbornike, programske liste … Grafično smo opremili tudi programske liste, zloženke, plakate, bilboarde in oglase za predstave pod okrilje...</td>\n",
       "    </tr>\n",
       "    <tr>\n",
       "      <th>3455</th>\n",
       "      <td>B</td>\n",
       "      <td>{'organisation': {'variant': 'B', 'count': 1}, 'organisational': {'variant': 'B', 'count': 1}, 'indicator': {'variant': 'B', 'count': 1}, 'realised': {'variant': 'B', 'count': 2}}</td>\n",
       "      <td>AIM     The Annual Adult Education Conference is a regular meeting of policy makers and professionals in the theory and practice of adult education.     OBJECTIVES     Presentation of current topics, participation in implementation of these topics, professional exchanges, collections of suggestions and proposals of adult education stakeholders.     DESCRIPTION     This event offers an opportu...</td>\n",
       "    </tr>\n",
       "    <tr>\n",
       "      <th>5518</th>\n",
       "      <td>B</td>\n",
       "      <td>{'centre': {'variant': 'B', 'count': 2}, 'cross': {'variant': 'B', 'count': 1}, 'catalogues': {'variant': 'B', 'count': 1}}</td>\n",
       "      <td>Nikos Papastergiadis     Does philosophy contribute to an invasion complex in Europe?     Lecture     Museum of Contemporary Art Metelkova, +MSUM, Monday, 29 August 2016 at 6 p.m., Seminar Room     Nikos Papastergiadis will examine how the image of the refugee has been defined through the fear of the other, and how the mechanisms of detention have transformed the conditions of belonging. He w...</td>\n",
       "    </tr>\n",
       "    <tr>\n",
       "      <th>3627</th>\n",
       "      <td>MIX</td>\n",
       "      <td>{'engines': {'variant': 'B', 'count': 2}, 'behavior': {'variant': 'A', 'count': 1}, 'mobile': {'variant': 'B', 'count': 2}, 'stores': {'variant': 'A', 'count': 1}}</td>\n",
       "      <td>The comparison of Web 2.0 and Web 3.0     Abstract     Today we can't imagine our lifes without the Internet. When we are faced with some kind of a problem, there is always a first association of finding a solution on the Internet. This idea has enabled us Web 2.0 development. Today, as we seek informations, we can search for solutions even for a couple of hours. Therefore, allows Web 3.0 sta...</td>\n",
       "    </tr>\n",
       "    <tr>\n",
       "      <th>5853</th>\n",
       "      <td>B</td>\n",
       "      <td>{'theatre': {'variant': 'B', 'count': 3}, 'catalogue': {'variant': 'B', 'count': 1}, 'film': {'variant': 'B', 'count': 1}}</td>\n",
       "      <td>Festival: SNIFF Mednarodni festival kratkega filma (2002)     festival type: national professional datum festivala: 18.8.2002-22.8.2002 Festival Venue: Novo mesto (SLO)     Awards: Nagrada za najboljšo režijo: Pavle (2001) Applications: Pavle (2001, in competition)     Mirč Kragelj (20.5.1923-19.7.2011) Abel Ferrara (19.7.1951-) Atom Egoyan (19.7.1960-) Saša Lošić (19.7.1964-) In Slovenian Th...</td>\n",
       "    </tr>\n",
       "    <tr>\n",
       "      <th>2576</th>\n",
       "      <td>B</td>\n",
       "      <td>{'traveller': {'variant': 'B', 'count': 1}}</td>\n",
       "      <td>The Hive Blog     NEW STORY EVERY FRIDAY.     The following pages represent a different side of the Our Space Appliances company. They’re not only about what we do in our jobs, but also about our activities outside of work. What do we think is worth striving for? What interests us?     Latest stories     Text and photos: Petra Draškovič Pelc, PhD   What does it mean to have the lynx disappear...</td>\n",
       "    </tr>\n",
       "    <tr>\n",
       "      <th>2784</th>\n",
       "      <td>A</td>\n",
       "      <td>{'analyzing': {'variant': 'A', 'count': 1}}</td>\n",
       "      <td>Cookies     What are cookies?     Cookies are small files that are transferred to a user’s computer when visiting a webpage. They make it possible to ensure that all of the website functions are working, to adapt specific content to individual users, and to constantly improve the website by analyzing visits. Cookies may be stored for the duration of a single session or longer. With each addit...</td>\n",
       "    </tr>\n",
       "    <tr>\n",
       "      <th>1826</th>\n",
       "      <td>B</td>\n",
       "      <td>{'favoured': {'variant': 'B', 'count': 1}, 'centre': {'variant': 'B', 'count': 1}}</td>\n",
       "      <td>Stranded in Shanghai     Photographic exhibition     27 March - 3 June 2019     Jewish Refugee Life through the Lens of Arthur Rothstein     After the Chrystal night (9.-10. November 1938) Shanghai was one of the few places in the world that favoured Jewish refugees. Around 18.000 European Jews found refuge there, many of them also survived the whole war there under Japanese occupation. In Ap...</td>\n",
       "    </tr>\n",
       "    <tr>\n",
       "      <th>6267</th>\n",
       "      <td>A</td>\n",
       "      <td>{'analyze': {'variant': 'A', 'count': 1}, 'store': {'variant': 'A', 'count': 1}}</td>\n",
       "      <td>Hike &amp; Fly     Ajdovščina is the perfect base for Hike &amp; Fly adventures. The slopes of the Trnovska plateau are crisscrossed by a network of breathtaking hiking paths. One of the most popular paths is the one leading past the Otliško Okno, a hole in the rock providing a unique view of the Vipava Valley. On the edge of the plateau, near the village of Kovk, hiking paths come across one of the ...</td>\n",
       "    </tr>\n",
       "    <tr>\n",
       "      <th>4843</th>\n",
       "      <td>A</td>\n",
       "      <td>{'kilometers': {'variant': 'A', 'count': 1}}</td>\n",
       "      <td>The Hamar people are the largest and ethnologically strongest group living by the Omo riverside. The most interesting part of their culture is the initiation ceremony for young boys called “bull jumping”. I myself was a spectator of numerous of these ceremonies and each and every time I was surprised, how so many unmarried girls would willingly take part in these ceremonies. The unmarried boy...</td>\n",
       "    </tr>\n",
       "    <tr>\n",
       "      <th>5106</th>\n",
       "      <td>A</td>\n",
       "      <td>{'analyze': {'variant': 'A', 'count': 1}, 'store': {'variant': 'A', 'count': 1}}</td>\n",
       "      <td>D. M.     This website uses cookies to improve your experience. We'll assume you're ok with this, but you can opt-out if you wish.Accept Read More     Privacy &amp; Cookies Policy     Zapri     Privacy Overview     This website uses cookies to improve your experience while you navigate through the website. Out of these, the cookies that are categorized as necessary are stored on your browser as t...</td>\n",
       "    </tr>\n",
       "    <tr>\n",
       "      <th>1252</th>\n",
       "      <td>A</td>\n",
       "      <td>{'pediatrics': {'variant': 'A', 'count': 1}}</td>\n",
       "      <td>Increase text Decrease text Reset text Readable text Underline links White/black Black/white High contrast Negative contrast     Care and Protection     Medical service consists of the department of nursing, department of medical rehabilitation, and the department of primary and secondary health care.     The Institute has a general clinic, where basic health care in the field of preventive a...</td>\n",
       "    </tr>\n",
       "    <tr>\n",
       "      <th>6799</th>\n",
       "      <td>B</td>\n",
       "      <td>{'summarises': {'variant': 'B', 'count': 1}, 'learnt': {'variant': 'B', 'count': 1}, 'organisation': {'variant': 'B', 'count': 1}}</td>\n",
       "      <td>Slovenska beseda v živo 3a, workbook     The intermediate level course for Slovene as a second/foreign language Slovenska beseda v živo 3 is aimed at adult learners and students of Slovene who wish to increase their knowledge to the C1 proficiency level or even higher. It is divided into two parts (3a and 3b), each of which is made up of a course book, a workbook and two DVDs with audio and v...</td>\n",
       "    </tr>\n",
       "    <tr>\n",
       "      <th>6571</th>\n",
       "      <td>B</td>\n",
       "      <td>{'centre': {'variant': 'B', 'count': 1}}</td>\n",
       "      <td>Vejice 1.0 Automated comma placement tool     TERMS OF USE The application Vejice 1.0 (Automated comma placement tool) which is publicly accessible at: https://orodja.cjvt.si/vejice/home is operated by Centre for Language Resources and Technologies at the University of Ljubljana, Faculty of Computer and Information Science, Večna pot 113, 1000 Ljubljana, Slovenia (hereinafter: CJVT). Users ma...</td>\n",
       "    </tr>\n",
       "    <tr>\n",
       "      <th>5800</th>\n",
       "      <td>MIX</td>\n",
       "      <td>{'autumn': {'variant': 'B', 'count': 1}, 'aging': {'variant': 'A', 'count': 1}, 'traveling': {'variant': 'A', 'count': 1}, 'mobile': {'variant': 'B', 'count': 1}, 'anywhere': {'variant': 'B', 'count': 1}}</td>\n",
       "      <td>Logare     ESSENS was established in autumn 2011 in the Czech Republic based on the cooperation with professionals in network marketing and leading experts in the area of development and production of cosmetics and food supplements. We are regularly introducing new unique products that, through the networks of its members, distributors and leaders, influence the markets of many countries and ...</td>\n",
       "    </tr>\n",
       "    <tr>\n",
       "      <th>1943</th>\n",
       "      <td>A</td>\n",
       "      <td>{'pediatric': {'variant': 'A', 'count': 2}}</td>\n",
       "      <td>The Society for Children with Metabolic Disorders The Society for Children with Metabolic Disorders is a humanitarian organization devoted to helping children, adolescents, young adults with Diabetes Type 1 and their families. More about us     A few words about us     The Society for Children with Metabolic disorders is a humanitarian organization devoted to helping children, adolescents and...</td>\n",
       "    </tr>\n",
       "  </tbody>\n",
       "</table>\n",
       "</div>"
      ],
      "text/plain": [
       "     variant  \\\n",
       "3844       A   \n",
       "5884       A   \n",
       "183        B   \n",
       "272      MIX   \n",
       "632        A   \n",
       "3455       B   \n",
       "5518       B   \n",
       "3627     MIX   \n",
       "5853       B   \n",
       "2576       B   \n",
       "2784       A   \n",
       "1826       B   \n",
       "6267       A   \n",
       "4843       A   \n",
       "5106       A   \n",
       "1252       A   \n",
       "6799       B   \n",
       "6571       B   \n",
       "5800     MIX   \n",
       "1943       A   \n",
       "\n",
       "                                                                                                                                                                                        variant_detector_breakdown  \\\n",
       "3844                                                                                                                                                                       {'store': {'variant': 'A', 'count': 2}}   \n",
       "5884                                                                                                                              {'analyze': {'variant': 'A', 'count': 1}, 'store': {'variant': 'A', 'count': 1}}   \n",
       "183                                                                                                                                                                  {'specialised': {'variant': 'B', 'count': 1}}   \n",
       "272                                  {'analyse': {'variant': 'B', 'count': 1}, 'analyzed': {'variant': 'A', 'count': 1}, 'acknowledgements': {'variant': 'B', 'count': 1}, 'center': {'variant': 'A', 'count': 1}}   \n",
       "632                                                                                                                                                                        {'store': {'variant': 'A', 'count': 6}}   \n",
       "3455                           {'organisation': {'variant': 'B', 'count': 1}, 'organisational': {'variant': 'B', 'count': 1}, 'indicator': {'variant': 'B', 'count': 1}, 'realised': {'variant': 'B', 'count': 2}}   \n",
       "5518                                                                                   {'centre': {'variant': 'B', 'count': 2}, 'cross': {'variant': 'B', 'count': 1}, 'catalogues': {'variant': 'B', 'count': 1}}   \n",
       "3627                                           {'engines': {'variant': 'B', 'count': 2}, 'behavior': {'variant': 'A', 'count': 1}, 'mobile': {'variant': 'B', 'count': 2}, 'stores': {'variant': 'A', 'count': 1}}   \n",
       "5853                                                                                    {'theatre': {'variant': 'B', 'count': 3}, 'catalogue': {'variant': 'B', 'count': 1}, 'film': {'variant': 'B', 'count': 1}}   \n",
       "2576                                                                                                                                                                   {'traveller': {'variant': 'B', 'count': 1}}   \n",
       "2784                                                                                                                                                                   {'analyzing': {'variant': 'A', 'count': 1}}   \n",
       "1826                                                                                                                            {'favoured': {'variant': 'B', 'count': 1}, 'centre': {'variant': 'B', 'count': 1}}   \n",
       "6267                                                                                                                              {'analyze': {'variant': 'A', 'count': 1}, 'store': {'variant': 'A', 'count': 1}}   \n",
       "4843                                                                                                                                                                  {'kilometers': {'variant': 'A', 'count': 1}}   \n",
       "5106                                                                                                                              {'analyze': {'variant': 'A', 'count': 1}, 'store': {'variant': 'A', 'count': 1}}   \n",
       "1252                                                                                                                                                                  {'pediatrics': {'variant': 'A', 'count': 1}}   \n",
       "6799                                                                            {'summarises': {'variant': 'B', 'count': 1}, 'learnt': {'variant': 'B', 'count': 1}, 'organisation': {'variant': 'B', 'count': 1}}   \n",
       "6571                                                                                                                                                                      {'centre': {'variant': 'B', 'count': 1}}   \n",
       "5800  {'autumn': {'variant': 'B', 'count': 1}, 'aging': {'variant': 'A', 'count': 1}, 'traveling': {'variant': 'A', 'count': 1}, 'mobile': {'variant': 'B', 'count': 1}, 'anywhere': {'variant': 'B', 'count': 1}}   \n",
       "1943                                                                                                                                                                   {'pediatric': {'variant': 'A', 'count': 2}}   \n",
       "\n",
       "                                                                                                                                                                                                                                                                                                                                                                                                                 text  \n",
       "3844   Products     Login or Create an Account     New Customers     By creating an account with our store, you will be able to move through the checkout process faster, store multiple shipping addresses, view and track your orders in your account and more.     Registered Customers     If you have an account with us, please log in.     *Email Address     *Password     What's this?     Checking \"Reme...  \n",
       "5884   Stilski predlogi za nošenje trenč plašča     Trenč plašč, eden tistih klasičnih modnih kosov, ki je kakor nalašč za te prehodne mesece, ko smo poletna oblačila že pospravile na dno omare, a je vsekakor še prezgodaj, da bi naši zimski plašči prišli na plan. Klasičen “trenč” bi v resnici moral viseti v prav vsaki ženski omari, kombiniramo ga lahko namreč tako na krila, hlače in obleke, za dodat...  \n",
       "183    Design     Take in the diversity of the Slovenian design scene - from fashion and interior to graphic and industrial designers and creative industry experts who are making marks worldwide.     Since then the biennial has become a notable and respected event to evaluate and award Slovenian design in about seven categories. The biennial has come to provide a specialised and expert-based overvie...  \n",
       "272    Korenine / Origin / Herkunft     LINGUISTIC COMPUTATIONAL ANALYSIS TO MEASURE THE DISTANCES BETWEEN ANCIENT VENETIC, LATIN, AND SLOVENIAN LANGUAGES     M. Silvestri1, Giancarlo Tomezzoli2     1 Via Faliero 16, I-37138 Verona , Italy     2 Zeppelinstrasse 43, D-81669 Munich, Germany     Abstract     In this paper we analyse the linguistic distances between the ancient Venetic, Latin, and Slove...  \n",
       "632    64. Ljubljana Festival     Project Description     V letu 2016 smo grafično opremili dogodke pod okriljem 64. Festivala Ljubljana, ki potekajo v Ljubljani preko poletnih mesecev. Oblikovali smo smo oglase, napovednike dogodkov, plakate, programske knjižice, zbornike, programske liste … Grafično smo opremili tudi programske liste, zloženke, plakate, bilboarde in oglase za predstave pod okrilje...  \n",
       "3455   AIM     The Annual Adult Education Conference is a regular meeting of policy makers and professionals in the theory and practice of adult education.     OBJECTIVES     Presentation of current topics, participation in implementation of these topics, professional exchanges, collections of suggestions and proposals of adult education stakeholders.     DESCRIPTION     This event offers an opportu...  \n",
       "5518   Nikos Papastergiadis     Does philosophy contribute to an invasion complex in Europe?     Lecture     Museum of Contemporary Art Metelkova, +MSUM, Monday, 29 August 2016 at 6 p.m., Seminar Room     Nikos Papastergiadis will examine how the image of the refugee has been defined through the fear of the other, and how the mechanisms of detention have transformed the conditions of belonging. He w...  \n",
       "3627   The comparison of Web 2.0 and Web 3.0     Abstract     Today we can't imagine our lifes without the Internet. When we are faced with some kind of a problem, there is always a first association of finding a solution on the Internet. This idea has enabled us Web 2.0 development. Today, as we seek informations, we can search for solutions even for a couple of hours. Therefore, allows Web 3.0 sta...  \n",
       "5853   Festival: SNIFF Mednarodni festival kratkega filma (2002)     festival type: national professional datum festivala: 18.8.2002-22.8.2002 Festival Venue: Novo mesto (SLO)     Awards: Nagrada za najboljšo režijo: Pavle (2001) Applications: Pavle (2001, in competition)     Mirč Kragelj (20.5.1923-19.7.2011) Abel Ferrara (19.7.1951-) Atom Egoyan (19.7.1960-) Saša Lošić (19.7.1964-) In Slovenian Th...  \n",
       "2576   The Hive Blog     NEW STORY EVERY FRIDAY.     The following pages represent a different side of the Our Space Appliances company. They’re not only about what we do in our jobs, but also about our activities outside of work. What do we think is worth striving for? What interests us?     Latest stories     Text and photos: Petra Draškovič Pelc, PhD   What does it mean to have the lynx disappear...  \n",
       "2784   Cookies     What are cookies?     Cookies are small files that are transferred to a user’s computer when visiting a webpage. They make it possible to ensure that all of the website functions are working, to adapt specific content to individual users, and to constantly improve the website by analyzing visits. Cookies may be stored for the duration of a single session or longer. With each addit...  \n",
       "1826   Stranded in Shanghai     Photographic exhibition     27 March - 3 June 2019     Jewish Refugee Life through the Lens of Arthur Rothstein     After the Chrystal night (9.-10. November 1938) Shanghai was one of the few places in the world that favoured Jewish refugees. Around 18.000 European Jews found refuge there, many of them also survived the whole war there under Japanese occupation. In Ap...  \n",
       "6267   Hike & Fly     Ajdovščina is the perfect base for Hike & Fly adventures. The slopes of the Trnovska plateau are crisscrossed by a network of breathtaking hiking paths. One of the most popular paths is the one leading past the Otliško Okno, a hole in the rock providing a unique view of the Vipava Valley. On the edge of the plateau, near the village of Kovk, hiking paths come across one of the ...  \n",
       "4843   The Hamar people are the largest and ethnologically strongest group living by the Omo riverside. The most interesting part of their culture is the initiation ceremony for young boys called “bull jumping”. I myself was a spectator of numerous of these ceremonies and each and every time I was surprised, how so many unmarried girls would willingly take part in these ceremonies. The unmarried boy...  \n",
       "5106   D. M.     This website uses cookies to improve your experience. We'll assume you're ok with this, but you can opt-out if you wish.Accept Read More     Privacy & Cookies Policy     Zapri     Privacy Overview     This website uses cookies to improve your experience while you navigate through the website. Out of these, the cookies that are categorized as necessary are stored on your browser as t...  \n",
       "1252   Increase text Decrease text Reset text Readable text Underline links White/black Black/white High contrast Negative contrast     Care and Protection     Medical service consists of the department of nursing, department of medical rehabilitation, and the department of primary and secondary health care.     The Institute has a general clinic, where basic health care in the field of preventive a...  \n",
       "6799   Slovenska beseda v živo 3a, workbook     The intermediate level course for Slovene as a second/foreign language Slovenska beseda v živo 3 is aimed at adult learners and students of Slovene who wish to increase their knowledge to the C1 proficiency level or even higher. It is divided into two parts (3a and 3b), each of which is made up of a course book, a workbook and two DVDs with audio and v...  \n",
       "6571   Vejice 1.0 Automated comma placement tool     TERMS OF USE The application Vejice 1.0 (Automated comma placement tool) which is publicly accessible at: https://orodja.cjvt.si/vejice/home is operated by Centre for Language Resources and Technologies at the University of Ljubljana, Faculty of Computer and Information Science, Večna pot 113, 1000 Ljubljana, Slovenia (hereinafter: CJVT). Users ma...  \n",
       "5800   Logare     ESSENS was established in autumn 2011 in the Czech Republic based on the cooperation with professionals in network marketing and leading experts in the area of development and production of cosmetics and food supplements. We are regularly introducing new unique products that, through the networks of its members, distributors and leaders, influence the markets of many countries and ...  \n",
       "1943   The Society for Children with Metabolic Disorders The Society for Children with Metabolic Disorders is a humanitarian organization devoted to helping children, adolescents, young adults with Diabetes Type 1 and their families. More about us     A few words about us     The Society for Children with Metabolic disorders is a humanitarian organization devoted to helping children, adolescents and...  "
      ]
     },
     "execution_count": 2,
     "metadata": {},
     "output_type": "execute_result"
    }
   ],
   "source": [
    "import pandas as pd\n",
    "pd.set_option('max_colwidth', 400)\n",
    "df.loc[df.variant_detector_breakdown != {}, [\"variant\", \"variant_detector_breakdown\", \"text\"]].sample(20)"
   ]
  },
  {
   "cell_type": "code",
   "execution_count": 3,
   "metadata": {},
   "outputs": [
    {
     "data": {
      "text/plain": [
       "0.45493900039354584"
      ]
     },
     "execution_count": 3,
     "metadata": {},
     "output_type": "execute_result"
    }
   ],
   "source": [
    "sum(df.A_B == 0)/df.shape[0]"
   ]
  },
  {
   "cell_type": "code",
   "execution_count": 4,
   "metadata": {},
   "outputs": [
    {
     "data": {
      "text/plain": [
       "0.4284402466220648"
      ]
     },
     "execution_count": 4,
     "metadata": {},
     "output_type": "execute_result"
    }
   ],
   "source": [
    "sum(df.variant_detector_count == {})/df.shape[0]"
   ]
  },
  {
   "cell_type": "code",
   "execution_count": 5,
   "metadata": {},
   "outputs": [
    {
     "data": {
      "text/plain": [
       "count     7623\n",
       "unique       4\n",
       "top        UNK\n",
       "freq      3266\n",
       "Name: variant, dtype: object"
      ]
     },
     "execution_count": 5,
     "metadata": {},
     "output_type": "execute_result"
    }
   ],
   "source": [
    "df.variant.describe()"
   ]
  },
  {
   "cell_type": "code",
   "execution_count": null,
   "metadata": {},
   "outputs": [],
   "source": []
  },
  {
   "cell_type": "code",
   "execution_count": null,
   "metadata": {},
   "outputs": [],
   "source": []
  }
 ],
 "metadata": {
  "interpreter": {
   "hash": "7f6f5766036ee03d059e365a942add07f79c17033585e9357ee8157d52fe6bb9"
  },
  "kernelspec": {
   "display_name": "Python 3.8.3 ('base')",
   "language": "python",
   "name": "python3"
  },
  "language_info": {
   "codemirror_mode": {
    "name": "ipython",
    "version": 3
   },
   "file_extension": ".py",
   "mimetype": "text/x-python",
   "name": "python",
   "nbconvert_exporter": "python",
   "pygments_lexer": "ipython3",
   "version": "3.8.3"
  },
  "orig_nbformat": 4
 },
 "nbformat": 4,
 "nbformat_minor": 2
}
