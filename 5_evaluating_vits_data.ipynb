{
 "cells": [
  {
   "cell_type": "code",
   "execution_count": 15,
   "metadata": {},
   "outputs": [],
   "source": [
    "import os\n",
    "from utils import read_prevert, count_variants, get_lexicon, counts_to_category\n",
    "\n",
    "lex = get_lexicon()\n",
    "directory = \"crawldata/\"\n",
    "files = os.listdir(directory)\n",
    "for file in files:\n",
    "    df = read_prevert(os.path.join(directory, file))\n",
    "    df[\"variant_detector_count\"] = df.text.apply(lambda s: count_variants(s, lex)[0])\n",
    "    df[\"variant_detector_breakdown\"] = df.text.apply(lambda s: count_variants(s, lex)[1])\n",
    "    df[\"words\"] = df.text.apply(lambda t: len(t.split()))\n",
    "    df[\"A_B\"] = df.variant_detector_count.apply(lambda d:d.get(\"A\", 0) - d.get(\"B\", 0))\n",
    "    df[\"A_B_normalized\"] = df.A_B / df.words\n",
    "    df[\"variant\"] = df.variant_detector_count.apply(counts_to_category)\n",
    "    break"
   ]
  },
  {
   "cell_type": "code",
   "execution_count": 16,
   "metadata": {},
   "outputs": [
    {
     "data": {
      "text/plain": [
       "'sl21.tld_si.good.lang_English.part01.prevert'"
      ]
     },
     "execution_count": 16,
     "metadata": {},
     "output_type": "execute_result"
    }
   ],
   "source": [
    "file"
   ]
  },
  {
   "cell_type": "code",
   "execution_count": 19,
   "metadata": {},
   "outputs": [],
   "source": [
    "import pandas as pd\n",
    "pd.set_option('max_colwidth', 400)\n",
    "subset = df.loc[df.variant_detector_breakdown != {}, [\"variant\", \"variant_detector_breakdown\", \"text\"]].sample(1000)\n",
    "subset.to_json(file+\".variant_detector_output.json\", orient=\"records\", indent=3)"
   ]
  },
  {
   "cell_type": "code",
   "execution_count": 12,
   "metadata": {},
   "outputs": [
    {
     "data": {
      "text/plain": [
       "0.5101604278074866"
      ]
     },
     "execution_count": 12,
     "metadata": {},
     "output_type": "execute_result"
    }
   ],
   "source": [
    "sum(df.A_B == 0)/df.shape[0]"
   ]
  },
  {
   "cell_type": "code",
   "execution_count": 13,
   "metadata": {},
   "outputs": [
    {
     "data": {
      "text/plain": [
       "0.4827094474153298"
      ]
     },
     "execution_count": 13,
     "metadata": {},
     "output_type": "execute_result"
    }
   ],
   "source": [
    "sum(df.variant_detector_count == {})/df.shape[0]"
   ]
  },
  {
   "cell_type": "code",
   "execution_count": 14,
   "metadata": {},
   "outputs": [
    {
     "data": {
      "text/plain": [
       "count     2805\n",
       "unique     196\n",
       "top         {}\n",
       "freq      1354\n",
       "Name: variant_detector_count, dtype: object"
      ]
     },
     "execution_count": 14,
     "metadata": {},
     "output_type": "execute_result"
    }
   ],
   "source": [
    "df.variant_detector_count.describe()"
   ]
  },
  {
   "cell_type": "code",
   "execution_count": null,
   "metadata": {},
   "outputs": [],
   "source": []
  },
  {
   "cell_type": "code",
   "execution_count": null,
   "metadata": {},
   "outputs": [],
   "source": []
  }
 ],
 "metadata": {
  "interpreter": {
   "hash": "7f6f5766036ee03d059e365a942add07f79c17033585e9357ee8157d52fe6bb9"
  },
  "kernelspec": {
   "display_name": "Python 3.8.3 ('base')",
   "language": "python",
   "name": "python3"
  },
  "language_info": {
   "codemirror_mode": {
    "name": "ipython",
    "version": 3
   },
   "file_extension": ".py",
   "mimetype": "text/x-python",
   "name": "python",
   "nbconvert_exporter": "python",
   "pygments_lexer": "ipython3",
   "version": "3.8.3"
  },
  "orig_nbformat": 4
 },
 "nbformat": 4,
 "nbformat_minor": 2
}
