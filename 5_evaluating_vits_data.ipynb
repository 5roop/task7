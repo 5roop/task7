{
 "cells": [
  {
   "cell_type": "code",
   "execution_count": 15,
   "metadata": {},
   "outputs": [],
   "source": [
    "import os\n",
    "from utils import read_prevert, count_variants, get_lexicon, counts_to_category\n",
    "\n",
    "lex = get_lexicon()\n",
    "directory = \"crawldata/\"\n",
    "files = os.listdir(directory)\n",
    "for file in files:\n",
    "    df = read_prevert(os.path.join(directory, file))\n",
    "    df[\"variant_detector_count\"] = df.text.apply(lambda s: count_variants(s, lex)[0])\n",
    "    df[\"variant_detector_breakdown\"] = df.text.apply(lambda s: count_variants(s, lex)[1])\n",
    "    df[\"words\"] = df.text.apply(lambda t: len(t.split()))\n",
    "    df[\"A_B\"] = df.variant_detector_count.apply(lambda d:d.get(\"A\", 0) - d.get(\"B\", 0))\n",
    "    df[\"A_B_normalized\"] = df.A_B / df.words\n",
    "    df[\"variant\"] = df.variant_detector_count.apply(counts_to_category)\n",
    "    break"
   ]
  },
  {
   "cell_type": "code",
   "execution_count": 16,
   "metadata": {},
   "outputs": [
    {
     "data": {
      "text/plain": [
       "'sl21.tld_si.good.lang_English.part01.prevert'"
      ]
     },
     "execution_count": 16,
     "metadata": {},
     "output_type": "execute_result"
    }
   ],
   "source": [
    "file"
   ]
  },
  {
   "cell_type": "code",
   "execution_count": 20,
   "metadata": {},
   "outputs": [],
   "source": [
    "import pandas as pd\n",
    "pd.set_option('max_colwidth', 400)\n",
    "subset = df.loc[df.variant_detector_breakdown != {}, [\"variant\", \"variant_detector_breakdown\", \"text\"]].sample(1000)\n",
    "subset.to_json(file+\".variant_detector_output.json\", orient=\"records\", indent=3)"
   ]
  },
  {
   "cell_type": "code",
   "execution_count": 21,
   "metadata": {},
   "outputs": [
    {
     "data": {
      "text/html": [
       "<div>\n",
       "<style scoped>\n",
       "    .dataframe tbody tr th:only-of-type {\n",
       "        vertical-align: middle;\n",
       "    }\n",
       "\n",
       "    .dataframe tbody tr th {\n",
       "        vertical-align: top;\n",
       "    }\n",
       "\n",
       "    .dataframe thead th {\n",
       "        text-align: right;\n",
       "    }\n",
       "</style>\n",
       "<table border=\"1\" class=\"dataframe\">\n",
       "  <thead>\n",
       "    <tr style=\"text-align: right;\">\n",
       "      <th></th>\n",
       "      <th>variant</th>\n",
       "      <th>variant_detector_breakdown</th>\n",
       "      <th>text</th>\n",
       "    </tr>\n",
       "  </thead>\n",
       "  <tbody>\n",
       "    <tr>\n",
       "      <th>3167</th>\n",
       "      <td>MIX</td>\n",
       "      <td>{'colour': {'variant': 'B', 'count': 2}, 'color': {'variant': 'A', 'count': 1}}</td>\n",
       "      <td>na naši televiziji smo se v zadnjem času malo bolj posvetili glasbi. Jeseni smo tako začeli s popoldansko oddajo Top 8, v kateri Suzana in Tjaša izmenično predstavljata zanimive glasbene video spote. Prav v teh dneh se počasi izteka prva sezona oddaje Moja pesem, tvoj glas, v kateri je šest domačih izvrstnih vokalistov (Irena Vrčkovnik, Eva Hren, Mirns Reynolds, Božidar Continue Reading     O...</td>\n",
       "    </tr>\n",
       "    <tr>\n",
       "      <th>5841</th>\n",
       "      <td>A</td>\n",
       "      <td>{'installments': {'variant': 'A', 'count': 3}, 'installment': {'variant': 'A', 'count': 2}}</td>\n",
       "      <td>This website uses cookies to ensure proper functionality of the shopping cart and checkout progress. By continuing to browse the site you are agreeing to the use of cookies. Click here to learn about cookie settings.     Hawke VANTAGE 12×25 - GREEN     0 Recenzija(e)     -Fully coated optics produce clear images -Focus knob with 1.4 turns — close focus 9.8ft/3m -BAK-4 roof prisms -Lightweight...</td>\n",
       "    </tr>\n",
       "    <tr>\n",
       "      <th>3818</th>\n",
       "      <td>B</td>\n",
       "      <td>{'mobile': {'variant': 'B', 'count': 11}, 'center': {'variant': 'A', 'count': 1}}</td>\n",
       "      <td>Instructions for use of QR Code for CRI CELJE d.o.o.     With your mobile phone, scan the code on the screen.     To do so, open the QR application, point the camera phone to the QR code, and wait a few seconds.     Note: you need to have an application on you phone to scan QR codes. Click here for further information.     Instructions for use of QR Code for BODOČNOST MARIBOR d.o.o.     With ...</td>\n",
       "    </tr>\n",
       "    <tr>\n",
       "      <th>7566</th>\n",
       "      <td>A</td>\n",
       "      <td>{'analyze': {'variant': 'A', 'count': 1}, 'store': {'variant': 'A', 'count': 1}}</td>\n",
       "      <td>4. januar 2013 – malca 2526 (l.1956 se je rodil Oto Pestner)     Novo leto… cajt za nove dosežke, nove cilje. Hmmm pa so potrebni?     Nov let smo praznoval doma, v družinskem krogu… po full letih. Pač tko je… babica in dedek sta se igra z vnuki… mi smo špilal mau karte, mau jedl, mau pil…     Za prvo večerjo je tašča spekla kuro… k je bla res TOP     Pol nek umes nam je nardila narezek     E...</td>\n",
       "    </tr>\n",
       "    <tr>\n",
       "      <th>1452</th>\n",
       "      <td>B</td>\n",
       "      <td>{'authorised': {'variant': 'B', 'count': 2}, 'organised': {'variant': 'B', 'count': 1}, 'behaviour': {'variant': 'B', 'count': 2}, 'behavior': {'variant': 'A', 'count': 1}, 'unauthorised': {'variant': 'B', 'count': 5}, 'authorisation': {'variant': 'B', 'count': 1}, 'favour': {'variant': 'B', 'count': 1}, 'lift': {'variant': 'B', 'count': 1}, 'fulfil': {'variant': 'B', 'count': 1}, 'organisatio...</td>\n",
       "      <td>Najdi v virih     WHAT IS THIS NOTICE ABOUT?     For using our services (e.g. attending training courses, or receiving newsletters), we will record and process certain personal data. With this data processing document, we would like to inform you about     the scope of data processing, how long the data is stored, and to whom your data will be accessible;     what your rights and remedies are...</td>\n",
       "    </tr>\n",
       "    <tr>\n",
       "      <th>...</th>\n",
       "      <td>...</td>\n",
       "      <td>...</td>\n",
       "      <td>...</td>\n",
       "    </tr>\n",
       "    <tr>\n",
       "      <th>2655</th>\n",
       "      <td>A</td>\n",
       "      <td>{'analyze': {'variant': 'A', 'count': 2}}</td>\n",
       "      <td>Ena izmed zahtev transformacije logistične podpore v Slovenski vojski (SV) je ponovno uvajanje intendantskih servisov v vojašnicah, predvsem zato, ker se smatra, da obstoječi sistem oskrbe z uniformami ni učinkovit. V SV ne zasledimo celovite analize obstoječega sistema oskrbovanja z uniformami ali predloga rešitve za odpravljanje ugotovljenih pomanjkljivosti. Delno kratko analizo obstoječega...</td>\n",
       "    </tr>\n",
       "    <tr>\n",
       "      <th>3757</th>\n",
       "      <td>A</td>\n",
       "      <td>{'center': {'variant': 'A', 'count': 1}}</td>\n",
       "      <td>FT-1000MP rear Packet connector setup for WSJT work     PACKET connector (rear panel) on FT-1000MP is active only when PKT or PKT USER mode is activated. PKT (Packet) mode on FT-1000MP is LSB. We must program USER mode for USB, if we want to use WSJT. For AUDIO OUT and IN from SB, use DATA IN and DATA OUT contacts (see PACKET connector in FT-1000MP manual).     We enter USER mode with holding...</td>\n",
       "    </tr>\n",
       "    <tr>\n",
       "      <th>7105</th>\n",
       "      <td>B</td>\n",
       "      <td>{'centre': {'variant': 'B', 'count': 1}}</td>\n",
       "      <td>Centre for Educational Policy Studies and Social Innovation University of Ljubljana, Faculty of Education     MASTERMIND EUROPE     2014 - 2017     The Mastermind Europe project is a three-year ambitious initiative coordinated by the Vrije Universiteit Amsterdam (VUA), and involving nine other European partners, namely the German Rectors’ Conference (HRK), the Catalan Association of Public Un...</td>\n",
       "    </tr>\n",
       "    <tr>\n",
       "      <th>961</th>\n",
       "      <td>A</td>\n",
       "      <td>{'analyze': {'variant': 'A', 'count': 1}, 'store': {'variant': 'A', 'count': 1}}</td>\n",
       "      <td>Tag: L’Oréal Paris     Članki bloga     Obraz je kot slikarsko platno, je zgodba, ki veliko pove o nas in poudari našo naravno lepoto. Vsaka ženska bi morala vsaj enkrat v življenju obiskati vizažista in če je pravi strokovnjak, natančno vidi, kaj se…     Šminko je uporabljala že lepa Kleopatra, ki si je iz zmletih rdečih hroščev barvala ustnice v rdečo bravo. Šminke so postale izjemno prilju...</td>\n",
       "    </tr>\n",
       "    <tr>\n",
       "      <th>6326</th>\n",
       "      <td>A</td>\n",
       "      <td>{'analyze': {'variant': 'A', 'count': 1}, 'store': {'variant': 'A', 'count': 1}}</td>\n",
       "      <td>14.avgust 2012 – malca 2457 (l. 1905 so se Norvežani na referendumu stoodstotno odločili za samostojno državo)     Ni krize… ajde razn mogoče u vladi, ampak tut tm je ni… ker je vlada na dopustu. Pa vi, ste dopustval? So vam umes vzeli kako pravico? Mogoče če ste bli na hrvaškem so vam ukradl telefon? Al pa so vam fsaj mogoce udrl v prkolco? Apartma? ahhhh. Ni frke… samo da smo živi pa da loh...</td>\n",
       "    </tr>\n",
       "  </tbody>\n",
       "</table>\n",
       "<p>1000 rows × 3 columns</p>\n",
       "</div>"
      ],
      "text/plain": [
       "     variant  \\\n",
       "3167     MIX   \n",
       "5841       A   \n",
       "3818       B   \n",
       "7566       A   \n",
       "1452       B   \n",
       "...      ...   \n",
       "2655       A   \n",
       "3757       A   \n",
       "7105       B   \n",
       "961        A   \n",
       "6326       A   \n",
       "\n",
       "                                                                                                                                                                                                                                                                                                                                                                                           variant_detector_breakdown  \\\n",
       "3167                                                                                                                                                                                                                                                                                                                                  {'colour': {'variant': 'B', 'count': 2}, 'color': {'variant': 'A', 'count': 1}}   \n",
       "5841                                                                                                                                                                                                                                                                                                                      {'installments': {'variant': 'A', 'count': 3}, 'installment': {'variant': 'A', 'count': 2}}   \n",
       "3818                                                                                                                                                                                                                                                                                                                                {'mobile': {'variant': 'B', 'count': 11}, 'center': {'variant': 'A', 'count': 1}}   \n",
       "7566                                                                                                                                                                                                                                                                                                                                 {'analyze': {'variant': 'A', 'count': 1}, 'store': {'variant': 'A', 'count': 1}}   \n",
       "1452  {'authorised': {'variant': 'B', 'count': 2}, 'organised': {'variant': 'B', 'count': 1}, 'behaviour': {'variant': 'B', 'count': 2}, 'behavior': {'variant': 'A', 'count': 1}, 'unauthorised': {'variant': 'B', 'count': 5}, 'authorisation': {'variant': 'B', 'count': 1}, 'favour': {'variant': 'B', 'count': 1}, 'lift': {'variant': 'B', 'count': 1}, 'fulfil': {'variant': 'B', 'count': 1}, 'organisatio...   \n",
       "...                                                                                                                                                                                                                                                                                                                                                                                                               ...   \n",
       "2655                                                                                                                                                                                                                                                                                                                                                                        {'analyze': {'variant': 'A', 'count': 2}}   \n",
       "3757                                                                                                                                                                                                                                                                                                                                                                         {'center': {'variant': 'A', 'count': 1}}   \n",
       "7105                                                                                                                                                                                                                                                                                                                                                                         {'centre': {'variant': 'B', 'count': 1}}   \n",
       "961                                                                                                                                                                                                                                                                                                                                  {'analyze': {'variant': 'A', 'count': 1}, 'store': {'variant': 'A', 'count': 1}}   \n",
       "6326                                                                                                                                                                                                                                                                                                                                 {'analyze': {'variant': 'A', 'count': 1}, 'store': {'variant': 'A', 'count': 1}}   \n",
       "\n",
       "                                                                                                                                                                                                                                                                                                                                                                                                                 text  \n",
       "3167   na naši televiziji smo se v zadnjem času malo bolj posvetili glasbi. Jeseni smo tako začeli s popoldansko oddajo Top 8, v kateri Suzana in Tjaša izmenično predstavljata zanimive glasbene video spote. Prav v teh dneh se počasi izteka prva sezona oddaje Moja pesem, tvoj glas, v kateri je šest domačih izvrstnih vokalistov (Irena Vrčkovnik, Eva Hren, Mirns Reynolds, Božidar Continue Reading     O...  \n",
       "5841   This website uses cookies to ensure proper functionality of the shopping cart and checkout progress. By continuing to browse the site you are agreeing to the use of cookies. Click here to learn about cookie settings.     Hawke VANTAGE 12×25 - GREEN     0 Recenzija(e)     -Fully coated optics produce clear images -Focus knob with 1.4 turns — close focus 9.8ft/3m -BAK-4 roof prisms -Lightweight...  \n",
       "3818   Instructions for use of QR Code for CRI CELJE d.o.o.     With your mobile phone, scan the code on the screen.     To do so, open the QR application, point the camera phone to the QR code, and wait a few seconds.     Note: you need to have an application on you phone to scan QR codes. Click here for further information.     Instructions for use of QR Code for BODOČNOST MARIBOR d.o.o.     With ...  \n",
       "7566   4. januar 2013 – malca 2526 (l.1956 se je rodil Oto Pestner)     Novo leto… cajt za nove dosežke, nove cilje. Hmmm pa so potrebni?     Nov let smo praznoval doma, v družinskem krogu… po full letih. Pač tko je… babica in dedek sta se igra z vnuki… mi smo špilal mau karte, mau jedl, mau pil…     Za prvo večerjo je tašča spekla kuro… k je bla res TOP     Pol nek umes nam je nardila narezek     E...  \n",
       "1452   Najdi v virih     WHAT IS THIS NOTICE ABOUT?     For using our services (e.g. attending training courses, or receiving newsletters), we will record and process certain personal data. With this data processing document, we would like to inform you about     the scope of data processing, how long the data is stored, and to whom your data will be accessible;     what your rights and remedies are...  \n",
       "...                                                                                                                                                                                                                                                                                                                                                                                                               ...  \n",
       "2655   Ena izmed zahtev transformacije logistične podpore v Slovenski vojski (SV) je ponovno uvajanje intendantskih servisov v vojašnicah, predvsem zato, ker se smatra, da obstoječi sistem oskrbe z uniformami ni učinkovit. V SV ne zasledimo celovite analize obstoječega sistema oskrbovanja z uniformami ali predloga rešitve za odpravljanje ugotovljenih pomanjkljivosti. Delno kratko analizo obstoječega...  \n",
       "3757   FT-1000MP rear Packet connector setup for WSJT work     PACKET connector (rear panel) on FT-1000MP is active only when PKT or PKT USER mode is activated. PKT (Packet) mode on FT-1000MP is LSB. We must program USER mode for USB, if we want to use WSJT. For AUDIO OUT and IN from SB, use DATA IN and DATA OUT contacts (see PACKET connector in FT-1000MP manual).     We enter USER mode with holding...  \n",
       "7105   Centre for Educational Policy Studies and Social Innovation University of Ljubljana, Faculty of Education     MASTERMIND EUROPE     2014 - 2017     The Mastermind Europe project is a three-year ambitious initiative coordinated by the Vrije Universiteit Amsterdam (VUA), and involving nine other European partners, namely the German Rectors’ Conference (HRK), the Catalan Association of Public Un...  \n",
       "961    Tag: L’Oréal Paris     Članki bloga     Obraz je kot slikarsko platno, je zgodba, ki veliko pove o nas in poudari našo naravno lepoto. Vsaka ženska bi morala vsaj enkrat v življenju obiskati vizažista in če je pravi strokovnjak, natančno vidi, kaj se…     Šminko je uporabljala že lepa Kleopatra, ki si je iz zmletih rdečih hroščev barvala ustnice v rdečo bravo. Šminke so postale izjemno prilju...  \n",
       "6326   14.avgust 2012 – malca 2457 (l. 1905 so se Norvežani na referendumu stoodstotno odločili za samostojno državo)     Ni krize… ajde razn mogoče u vladi, ampak tut tm je ni… ker je vlada na dopustu. Pa vi, ste dopustval? So vam umes vzeli kako pravico? Mogoče če ste bli na hrvaškem so vam ukradl telefon? Al pa so vam fsaj mogoce udrl v prkolco? Apartma? ahhhh. Ni frke… samo da smo živi pa da loh...  \n",
       "\n",
       "[1000 rows x 3 columns]"
      ]
     },
     "execution_count": 21,
     "metadata": {},
     "output_type": "execute_result"
    }
   ],
   "source": [
    "subset"
   ]
  },
  {
   "cell_type": "code",
   "execution_count": 12,
   "metadata": {},
   "outputs": [
    {
     "data": {
      "text/plain": [
       "0.5101604278074866"
      ]
     },
     "execution_count": 12,
     "metadata": {},
     "output_type": "execute_result"
    }
   ],
   "source": [
    "sum(df.A_B == 0)/df.shape[0]"
   ]
  },
  {
   "cell_type": "code",
   "execution_count": 13,
   "metadata": {},
   "outputs": [
    {
     "data": {
      "text/plain": [
       "0.4827094474153298"
      ]
     },
     "execution_count": 13,
     "metadata": {},
     "output_type": "execute_result"
    }
   ],
   "source": [
    "sum(df.variant_detector_count == {})/df.shape[0]"
   ]
  },
  {
   "cell_type": "code",
   "execution_count": 14,
   "metadata": {},
   "outputs": [
    {
     "data": {
      "text/plain": [
       "count     2805\n",
       "unique     196\n",
       "top         {}\n",
       "freq      1354\n",
       "Name: variant_detector_count, dtype: object"
      ]
     },
     "execution_count": 14,
     "metadata": {},
     "output_type": "execute_result"
    }
   ],
   "source": [
    "df.variant_detector_count.describe()"
   ]
  },
  {
   "cell_type": "code",
   "execution_count": null,
   "metadata": {},
   "outputs": [],
   "source": []
  },
  {
   "cell_type": "code",
   "execution_count": null,
   "metadata": {},
   "outputs": [],
   "source": []
  }
 ],
 "metadata": {
  "interpreter": {
   "hash": "7f6f5766036ee03d059e365a942add07f79c17033585e9357ee8157d52fe6bb9"
  },
  "kernelspec": {
   "display_name": "Python 3.8.3 ('base')",
   "language": "python",
   "name": "python3"
  },
  "language_info": {
   "codemirror_mode": {
    "name": "ipython",
    "version": 3
   },
   "file_extension": ".py",
   "mimetype": "text/x-python",
   "name": "python",
   "nbconvert_exporter": "python",
   "pygments_lexer": "ipython3",
   "version": "3.8.3"
  },
  "orig_nbformat": 4
 },
 "nbformat": 4,
 "nbformat_minor": 2
}
