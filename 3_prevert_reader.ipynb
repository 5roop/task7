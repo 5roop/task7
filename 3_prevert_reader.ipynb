{
 "cells": [
  {
   "cell_type": "code",
   "execution_count": 41,
   "metadata": {},
   "outputs": [],
   "source": [
    "filename = \"crawldata/hr21.tld_hr.good.lang_English.part01.prevert\"\n",
    "\n",
    "from bs4 import BeautifulSoup \n",
    "\n",
    "# Reading the data inside the xml file to a variable under the name  data\n",
    "with open(filename, 'r') as f:\n",
    "    # Note the prefix and suffix:\n",
    "    # Without it only the first document is read.\n",
    "    filecontent = \"<data>\" + f.read() + \"</data>\"\n",
    "\n",
    "# Passing the stored data inside the beautifulsoup parser \n",
    "data = BeautifulSoup(filecontent, 'xml', )\n"
   ]
  },
  {
   "cell_type": "code",
   "execution_count": 3,
   "metadata": {},
   "outputs": [
    {
     "data": {
      "text/plain": [
       "713634"
      ]
     },
     "execution_count": 3,
     "metadata": {},
     "output_type": "execute_result"
    }
   ],
   "source": [
    "docs = data.find_all(\"doc\")\n",
    "len(docs)"
   ]
  },
  {
   "cell_type": "code",
   "execution_count": 4,
   "metadata": {},
   "outputs": [],
   "source": [
    "parsed_docs = list()\n",
    "\n",
    "for doc in docs:\n",
    "    doc_id = doc[\"id\"]\n",
    "    paragraphs = doc.find_all(\"p\")\n",
    "    paragraphs = [p.contents[0].replace(\"\\n\", \" \") for p in paragraphs]\n",
    "    paragraphs = \"   \".join(paragraphs)\n",
    "    parsed_docs.append({\n",
    "        \"id\": doc_id,\n",
    "        \"text\": paragraphs\n",
    "    })\n"
   ]
  },
  {
   "cell_type": "code",
   "execution_count": 5,
   "metadata": {},
   "outputs": [],
   "source": [
    "import pandas as pd\n",
    "df = pd.DataFrame(data=parsed_docs)"
   ]
  },
  {
   "cell_type": "code",
   "execution_count": 32,
   "metadata": {},
   "outputs": [],
   "source": [
    "from utils import get_lexicon, preprocess, count_variants\n",
    "import logging\n",
    "logging.basicConfig(format='%(asctime)s %(message)s', level=logging.WARNING)\n",
    "\n",
    "\n",
    "lex = get_lexicon(min_length=3, only_verified=True)\n",
    "\n",
    "df[\"variant_detector_count\"] = df.text.apply(lambda s: count_variants(s, lex)[0])\n",
    "df[\"variant_detector_breakdown\"] = df.text.apply(lambda s: count_variants(s, lex)[1])\n",
    "df[\"words\"] = df.text.apply(lambda t: len(t.split()))\n",
    "df[\"A_B\"] = df.variant_detector_count.apply(lambda d:d.get(\"A\", 0) - d.get(\"B\", 0))\n",
    "df[\"A_B_normalized\"] = df.A_B / df.words\n"
   ]
  },
  {
   "cell_type": "code",
   "execution_count": 45,
   "metadata": {},
   "outputs": [
    {
     "data": {
      "image/png": "[encoded data removed]",
      "text/plain": [
       "<Figure size 504x288 with 1 Axes>"
      ]
     },
     "metadata": {
      "needs_background": "light"
     },
     "output_type": "display_data"
    }
   ],
   "source": [
    "import matplotlib.pyplot as plt\n",
    "plt.style.use(\"science no-latex\".split())\n",
    "plt.figure(figsize=(7,4))\n",
    "plt.hist(df.A_B_normalized[df.variant_detector_count != {}], bins=400)\n",
    "plt.xlim((-0.05, 0.05))\n",
    "plt.title(f\"File: {filename}\\nwithout empty detections\")\n",
    "\n",
    "plt.xlabel(\"(more B)   A-B metric    (more A)\")\n",
    "plt.savefig(\"images/A_B_normalized_hr_part01.png\")\n",
    "plt.show()"
   ]
  },
  {
   "cell_type": "code",
   "execution_count": 34,
   "metadata": {},
   "outputs": [
    {
     "data": {
      "text/plain": [
       "0.5598766314385245"
      ]
     },
     "execution_count": 34,
     "metadata": {},
     "output_type": "execute_result"
    }
   ],
   "source": [
    "sum(df.A_B == 0)/df.shape[0]"
   ]
  },
  {
   "cell_type": "code",
   "execution_count": 35,
   "metadata": {},
   "outputs": [
    {
     "data": {
      "text/plain": [
       "0.5302185714245677"
      ]
     },
     "execution_count": 35,
     "metadata": {},
     "output_type": "execute_result"
    }
   ],
   "source": [
    "sum(df.variant_detector_count == {})/df.shape[0]"
   ]
  },
  {
   "cell_type": "code",
   "execution_count": 72,
   "metadata": {},
   "outputs": [
    {
     "data": {
      "text/html": [
       "<div>\n",
       "<style scoped>\n",
       "    .dataframe tbody tr th:only-of-type {\n",
       "        vertical-align: middle;\n",
       "    }\n",
       "\n",
       "    .dataframe tbody tr th {\n",
       "        vertical-align: top;\n",
       "    }\n",
       "\n",
       "    .dataframe thead th {\n",
       "        text-align: right;\n",
       "    }\n",
       "</style>\n",
       "<table border=\"1\" class=\"dataframe\">\n",
       "  <thead>\n",
       "    <tr style=\"text-align: right;\">\n",
       "      <th></th>\n",
       "      <th>variant_detector_breakdown</th>\n",
       "      <th>text</th>\n",
       "    </tr>\n",
       "  </thead>\n",
       "  <tbody>\n",
       "    <tr>\n",
       "      <th>85303</th>\n",
       "      <td>{'centers': {'variant': 'A', 'count': 1}, 'catalysing': {'variant': 'B', 'count': 1}, 'analyses'...</td>\n",
       "      <td>SVIBOR - Collecting Data on Projects in Croatia     Project code: 3-01-225     ENVIRONMENT AND ...</td>\n",
       "    </tr>\n",
       "    <tr>\n",
       "      <th>662727</th>\n",
       "      <td>{'centre': {'variant': 'B', 'count': 2}}</td>\n",
       "      <td>Distribution of non-native Pacific oyster Magallana gigas(Thunberg, 1793) along the eastern Adr...</td>\n",
       "    </tr>\n",
       "    <tr>\n",
       "      <th>689139</th>\n",
       "      <td>{'centre': {'variant': 'B', 'count': 1}}</td>\n",
       "      <td>Vanjski link     Napuštate naše stranice i nastavljate na Apartments Diana booking stranice. Ta...</td>\n",
       "    </tr>\n",
       "    <tr>\n",
       "      <th>650575</th>\n",
       "      <td>{'analyze': {'variant': 'A', 'count': 1}}</td>\n",
       "      <td>Web stranica Cvjećarnice Minnie koristi i pohranjuje \"kolačiće\" kako bi poboljšali iskustvo kor...</td>\n",
       "    </tr>\n",
       "    <tr>\n",
       "      <th>651665</th>\n",
       "      <td>{'analyse': {'variant': 'B', 'count': 1}}</td>\n",
       "      <td>Josip Juraj Strossmayer University of Osijek Faculty of Civil Engineering and Architecture Osij...</td>\n",
       "    </tr>\n",
       "  </tbody>\n",
       "</table>\n",
       "</div>"
      ],
      "text/plain": [
       "                                                                                 variant_detector_breakdown  \\\n",
       "85303   {'centers': {'variant': 'A', 'count': 1}, 'catalysing': {'variant': 'B', 'count': 1}, 'analyses'...   \n",
       "662727                                                             {'centre': {'variant': 'B', 'count': 2}}   \n",
       "689139                                                             {'centre': {'variant': 'B', 'count': 1}}   \n",
       "650575                                                            {'analyze': {'variant': 'A', 'count': 1}}   \n",
       "651665                                                            {'analyse': {'variant': 'B', 'count': 1}}   \n",
       "\n",
       "                                                                                                       text  \n",
       "85303    SVIBOR - Collecting Data on Projects in Croatia     Project code: 3-01-225     ENVIRONMENT AND ...  \n",
       "662727   Distribution of non-native Pacific oyster Magallana gigas(Thunberg, 1793) along the eastern Adr...  \n",
       "689139   Vanjski link     Napuštate naše stranice i nastavljate na Apartments Diana booking stranice. Ta...  \n",
       "650575   Web stranica Cvjećarnice Minnie koristi i pohranjuje \"kolačiće\" kako bi poboljšali iskustvo kor...  \n",
       "651665   Josip Juraj Strossmayer University of Osijek Faculty of Civil Engineering and Architecture Osij...  "
      ]
     },
     "execution_count": 72,
     "metadata": {},
     "output_type": "execute_result"
    }
   ],
   "source": [
    "pd.set_option('max_colwidth', 100)\n",
    "df.loc[:, [\"variant_detector_breakdown\", \"text\"]].sample(5)\n"
   ]
  },
  {
   "cell_type": "code",
   "execution_count": 64,
   "metadata": {},
   "outputs": [
    {
     "data": {
      "text/plain": [
       "{'unfavourable': {'variant': 'B', 'count': 1},\n",
       " 'favourable': {'variant': 'B', 'count': 2},\n",
       " 'center': {'variant': 'A', 'count': 6},\n",
       " 'analyze': {'variant': 'A', 'count': 1}}"
      ]
     },
     "execution_count": 64,
     "metadata": {},
     "output_type": "execute_result"
    }
   ],
   "source": [
    "df.variant_detector_breakdown[261917]"
   ]
  },
  {
   "cell_type": "code",
   "execution_count": null,
   "metadata": {},
   "outputs": [],
   "source": []
  }
 ],
 "metadata": {
  "interpreter": {
   "hash": "7f6f5766036ee03d059e365a942add07f79c17033585e9357ee8157d52fe6bb9"
  },
  "kernelspec": {
   "display_name": "Python 3.8.3 ('base')",
   "language": "python",
   "name": "python3"
  },
  "language_info": {
   "codemirror_mode": {
    "name": "ipython",
    "version": 3
   },
   "file_extension": ".py",
   "mimetype": "text/x-python",
   "name": "python",
   "nbconvert_exporter": "python",
   "pygments_lexer": "ipython3",
   "version": "3.8.3"
  },
  "orig_nbformat": 4
 },
 "nbformat": 4,
 "nbformat_minor": 2
}
