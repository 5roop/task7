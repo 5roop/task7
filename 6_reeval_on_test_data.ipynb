{
 "cells": [
  {
   "cell_type": "code",
   "execution_count": 1,
   "metadata": {},
   "outputs": [],
   "source": [
    "import pandas as pd\n",
    "import matplotlib.pyplot as plt\n",
    "\n",
    "testpath = \"test-data/GloWBe-and-NOW-corpus-sample.json\"\n",
    "\n",
    "\n",
    "from utils import read_prevert, count_variants, get_lexicon, counts_to_category\n",
    "\n",
    "lex = get_lexicon()\n",
    "\n",
    "df = pd.read_json(testpath)\n",
    "df[\"variant_detector_count\"] = df.text.apply(lambda s: count_variants(s, lex)[0])\n",
    "df[\"variant_detector_breakdown\"] = df.text.apply(lambda s: count_variants(s, lex)[1])\n",
    "df[\"words\"] = df.text.apply(lambda t: len(t.split()))\n",
    "df[\"A_B\"] = df.variant_detector_count.apply(lambda d:d.get(\"A\", 0) - d.get(\"B\", 0))\n",
    "df[\"A_B_normalized\"] = df.A_B / df.words\n",
    "df[\"variant\"] = df.variant_detector_count.apply(counts_to_category)"
   ]
  },
  {
   "cell_type": "code",
   "execution_count": 2,
   "metadata": {},
   "outputs": [
    {
     "data": {
      "text/plain": [
       "Index(['id', 'words', 'country', 'website', 'title', 'text', 'lower_text',\n",
       "       'corpus', 'variant_detector_count', 'variant_detector_breakdown', 'A_B',\n",
       "       'A_B_normalized', 'variant'],\n",
       "      dtype='object')"
      ]
     },
     "execution_count": 2,
     "metadata": {},
     "output_type": "execute_result"
    }
   ],
   "source": [
    "df.columns"
   ]
  },
  {
   "cell_type": "code",
   "execution_count": 3,
   "metadata": {},
   "outputs": [],
   "source": [
    "pd.set_option('max_colwidth', 400)\n",
    "# subset = df.loc[df.variant_detector_breakdown != {}, [\"country\", \"variant\", \"variant_detector_breakdown\", \"text\"]]\n",
    "c1 = (df.variant == \"A\") & (df.country == \"GB\")\n",
    "c2 = (df.variant == \"B\") & (df.country == \"US\")\n",
    "subset = df.loc[c1, [\"country\", \"variant\", \"variant_detector_breakdown\", \"text\"]]\n",
    "subset[\"tokens\"] = subset.variant_detector_breakdown.apply(lambda i: list(i.keys())) \n",
    "all_A_GB = []\n",
    "for l in subset.tokens.values:\n",
    "    all_A_GB.extend(l)\n",
    "subset = df.loc[c2, [\"country\", \"variant\", \"variant_detector_breakdown\", \"text\"]]\n",
    "subset[\"tokens\"] = subset.variant_detector_breakdown.apply(lambda i: list(i.keys())) \n",
    "all_B_US = []\n",
    "for l in subset.tokens.values:\n",
    "    all_B_US.extend(l)\n",
    "\n"
   ]
  },
  {
   "cell_type": "code",
   "execution_count": 4,
   "metadata": {},
   "outputs": [
    {
     "name": "stdout",
     "output_type": "stream",
     "text": [
      "|             |   text |\n",
      "|:------------|-------:|\n",
      "| ('US', 'B') |     78 |\n"
     ]
    }
   ],
   "source": [
    "print(subset.groupby([\"country\", \"variant\"]).count()[\"text\"].to_markdown())"
   ]
  },
  {
   "cell_type": "code",
   "execution_count": 5,
   "metadata": {},
   "outputs": [
    {
     "data": {
      "text/plain": [
       "[('store', 10),\n",
       " ('gas', 6),\n",
       " ('center', 6),\n",
       " ('movie', 6),\n",
       " ('favorite', 5),\n",
       " ('film', 3),\n",
       " ('crazy', 3),\n",
       " ('car', 3),\n",
       " ('stores', 3),\n",
       " ('centers', 2),\n",
       " ('theatre', 2),\n",
       " ('behaviour', 2),\n",
       " ('attorney', 2),\n",
       " ('trailer', 2),\n",
       " ('defense', 2),\n",
       " ('gasoline', 2),\n",
       " ('colors', 2),\n",
       " ('vacation', 2),\n",
       " ('somewhere', 2),\n",
       " ('behavior', 2)]"
      ]
     },
     "execution_count": 5,
     "metadata": {},
     "output_type": "execute_result"
    }
   ],
   "source": [
    "from collections import Counter\n",
    "Counter(all_A_GB).most_common(20)"
   ]
  },
  {
   "cell_type": "code",
   "execution_count": null,
   "metadata": {},
   "outputs": [],
   "source": []
  }
 ],
 "metadata": {
  "interpreter": {
   "hash": "7f6f5766036ee03d059e365a942add07f79c17033585e9357ee8157d52fe6bb9"
  },
  "kernelspec": {
   "display_name": "Python 3.8.3 ('base')",
   "language": "python",
   "name": "python3"
  },
  "language_info": {
   "codemirror_mode": {
    "name": "ipython",
    "version": 3
   },
   "file_extension": ".py",
   "mimetype": "text/x-python",
   "name": "python",
   "nbconvert_exporter": "python",
   "pygments_lexer": "ipython3",
   "version": "3.8.3"
  },
  "orig_nbformat": 4
 },
 "nbformat": 4,
 "nbformat_minor": 2
}
