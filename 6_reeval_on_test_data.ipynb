{
 "cells": [
  {
   "cell_type": "code",
   "execution_count": 1,
   "metadata": {},
   "outputs": [],
   "source": [
    "import pandas as pd\n",
    "import matplotlib.pyplot as plt\n",
    "\n",
    "testpath = \"test-data/GloWBe-and-NOW-corpus-sample.json\"\n",
    "\n",
    "\n",
    "from utils import read_prevert, count_variants, get_lexicon, counts_to_category\n",
    "\n",
    "lex = get_lexicon()\n",
    "\n",
    "df = pd.read_json(testpath)\n",
    "df[\"variant_detector_count\"] = df.text.apply(lambda s: count_variants(s, lex)[0])\n",
    "df[\"variant_detector_breakdown\"] = df.text.apply(lambda s: count_variants(s, lex)[1])\n",
    "df[\"words\"] = df.text.apply(lambda t: len(t.split()))\n",
    "df[\"A_B\"] = df.variant_detector_count.apply(lambda d:d.get(\"A\", 0) - d.get(\"B\", 0))\n",
    "df[\"A_B_normalized\"] = df.A_B / df.words\n",
    "df[\"variant\"] = df.variant_detector_count.apply(counts_to_category)"
   ]
  },
  {
   "cell_type": "code",
   "execution_count": 2,
   "metadata": {},
   "outputs": [
    {
     "data": {
      "text/html": [
       "<div>\n",
       "<style scoped>\n",
       "    .dataframe tbody tr th:only-of-type {\n",
       "        vertical-align: middle;\n",
       "    }\n",
       "\n",
       "    .dataframe tbody tr th {\n",
       "        vertical-align: top;\n",
       "    }\n",
       "\n",
       "    .dataframe thead th {\n",
       "        text-align: right;\n",
       "    }\n",
       "</style>\n",
       "<table border=\"1\" class=\"dataframe\">\n",
       "  <thead>\n",
       "    <tr style=\"text-align: right;\">\n",
       "      <th></th>\n",
       "      <th>country</th>\n",
       "      <th>variant</th>\n",
       "      <th>variant_detector_breakdown</th>\n",
       "      <th>text</th>\n",
       "    </tr>\n",
       "  </thead>\n",
       "  <tbody>\n",
       "    <tr>\n",
       "      <th>954</th>\n",
       "      <td>GB</td>\n",
       "      <td>B</td>\n",
       "      <td>{'colours': {'variant': 'B', 'count': 1}, 'autumn': {'variant': 'B', 'count': 1}, 'installment': {'variant': 'A', 'count': 1}, 'film': {'variant': 'B', 'count': 2}}</td>\n",
       "      <td>&lt;p&gt; Returning in 2012 with his fourth artist album , \" The Agony &amp;; The Ecstasy \" , High Contrast is set to reinstate his reputation at the top table with this superb twelve-track long player . &lt;p&gt; High Contrast himself describes The Agony &amp;; The Ecstasy as more personal than any other album he s made , so prepare to be moved with some heartfelt melodies as well as the uplifting anthems which ...</td>\n",
       "    </tr>\n",
       "    <tr>\n",
       "      <th>384</th>\n",
       "      <td>US</td>\n",
       "      <td>A</td>\n",
       "      <td>{'maneuver': {'variant': 'A', 'count': 1}, 'traveled': {'variant': 'A', 'count': 2}, 'kilometers': {'variant': 'A', 'count': 1}, 'defense': {'variant': 'A', 'count': 1}}</td>\n",
       "      <td>&lt;h&gt; Ask Congress &lt;p&gt; A forthcoming report by the congressional U.S.-China Economic and Security Review Commission provides new details of China 's space-weapons programs , dubbed counterspace arms , that are aimed at destroying or jamming U.S. satellites and limiting American combat operations around the world . &lt;p&gt; Two direct-ascent missiles capable of hitting satellites in both lower and hig...</td>\n",
       "    </tr>\n",
       "    <tr>\n",
       "      <th>466</th>\n",
       "      <td>US</td>\n",
       "      <td>A</td>\n",
       "      <td>{'center': {'variant': 'A', 'count': 1}, 'behavioral': {'variant': 'A', 'count': 2}}</td>\n",
       "      <td>&lt;h&gt; Feds pay for study of gay men 's penis sizes &lt;p&gt; Kajsa Westman , second from right , of Stockholm , Sweden , and Victor Ng , right , of Seattle , tie balloons to a banner in preparation for the annual Gay Pride parade , Sunday , June 26 , 2011 in New York . One of the world 's oldest and largest gay pride parades was expected to become a victory celebration Sunday after New York 's histori...</td>\n",
       "    </tr>\n",
       "    <tr>\n",
       "      <th>1337</th>\n",
       "      <td>US</td>\n",
       "      <td>A</td>\n",
       "      <td>{'judgment': {'variant': 'A', 'count': 6}, 'judgments': {'variant': 'A', 'count': 4}, 'truck': {'variant': 'A', 'count': 1}, 'mitre': {'variant': 'B', 'count': 1}, 'favorite': {'variant': 'A', 'count': 1}, 'honourable': {'variant': 'B', 'count': 3}, 'honour': {'variant': 'B', 'count': 3}, 'honorable': {'variant': 'A', 'count': 1}, 'honor': {'variant': 'A', 'count': 2}, 'movie': {'variant': 'A'...</td>\n",
       "      <td>&lt;h&gt; How to Keep the Sabbath Day Holy &lt;p&gt; Sabbath-keeping reflects our relationship with God . How can we recapture positive principles and grow in this area ? &lt;p&gt; Exodus 19 and 20 talk about how God , when He gave the Ten Commandments , caused the earth to tremble and shake -- the manifestations were absolutely awesome . God said He came to test them \" that His fear may be before you , so that...</td>\n",
       "    </tr>\n",
       "    <tr>\n",
       "      <th>883</th>\n",
       "      <td>GB</td>\n",
       "      <td>B</td>\n",
       "      <td>{'labour': {'variant': 'B', 'count': 7}, 'analysed': {'variant': 'B', 'count': 1}, 'sizeable': {'variant': 'B', 'count': 1}, 'jeopardising': {'variant': 'B', 'count': 1}, 'decentralise': {'variant': 'B', 'count': 1}, 'decentralised': {'variant': 'B', 'count': 1}, 'favour': {'variant': 'B', 'count': 1}, 'shop': {'variant': 'B', 'count': 1}, 'modelling': {'variant': 'B', 'count': 1}, 'labelled':...</td>\n",
       "      <td>&lt;p&gt; A bad day for the Lib Dems , but not unexpectedly so . Call it sanguine , call it resigned ... &lt;h&gt; Lib Dems Corby pressed &lt;p&gt; The party expected to get squeezed in Corby , and we were . I suspect we lost some ' none of the above ' voters to Ukip and some left-leaning liberals to Labour ( and many others who just did n't vote ) . To forfeit our deposit by barely more than a dozen votes adde...</td>\n",
       "    </tr>\n",
       "  </tbody>\n",
       "</table>\n",
       "</div>"
      ],
      "text/plain": [
       "     country variant  \\\n",
       "954       GB       B   \n",
       "384       US       A   \n",
       "466       US       A   \n",
       "1337      US       A   \n",
       "883       GB       B   \n",
       "\n",
       "                                                                                                                                                                                                                                                                                                                                                                                           variant_detector_breakdown  \\\n",
       "954                                                                                                                                                                                                                                              {'colours': {'variant': 'B', 'count': 1}, 'autumn': {'variant': 'B', 'count': 1}, 'installment': {'variant': 'A', 'count': 1}, 'film': {'variant': 'B', 'count': 2}}   \n",
       "384                                                                                                                                                                                                                                         {'maneuver': {'variant': 'A', 'count': 1}, 'traveled': {'variant': 'A', 'count': 2}, 'kilometers': {'variant': 'A', 'count': 1}, 'defense': {'variant': 'A', 'count': 1}}   \n",
       "466                                                                                                                                                                                                                                                                                                                              {'center': {'variant': 'A', 'count': 1}, 'behavioral': {'variant': 'A', 'count': 2}}   \n",
       "1337  {'judgment': {'variant': 'A', 'count': 6}, 'judgments': {'variant': 'A', 'count': 4}, 'truck': {'variant': 'A', 'count': 1}, 'mitre': {'variant': 'B', 'count': 1}, 'favorite': {'variant': 'A', 'count': 1}, 'honourable': {'variant': 'B', 'count': 3}, 'honour': {'variant': 'B', 'count': 3}, 'honorable': {'variant': 'A', 'count': 1}, 'honor': {'variant': 'A', 'count': 2}, 'movie': {'variant': 'A'...   \n",
       "883   {'labour': {'variant': 'B', 'count': 7}, 'analysed': {'variant': 'B', 'count': 1}, 'sizeable': {'variant': 'B', 'count': 1}, 'jeopardising': {'variant': 'B', 'count': 1}, 'decentralise': {'variant': 'B', 'count': 1}, 'decentralised': {'variant': 'B', 'count': 1}, 'favour': {'variant': 'B', 'count': 1}, 'shop': {'variant': 'B', 'count': 1}, 'modelling': {'variant': 'B', 'count': 1}, 'labelled':...   \n",
       "\n",
       "                                                                                                                                                                                                                                                                                                                                                                                                                 text  \n",
       "954   <p> Returning in 2012 with his fourth artist album , \" The Agony &; The Ecstasy \" , High Contrast is set to reinstate his reputation at the top table with this superb twelve-track long player . <p> High Contrast himself describes The Agony &; The Ecstasy as more personal than any other album he s made , so prepare to be moved with some heartfelt melodies as well as the uplifting anthems which ...  \n",
       "384   <h> Ask Congress <p> A forthcoming report by the congressional U.S.-China Economic and Security Review Commission provides new details of China 's space-weapons programs , dubbed counterspace arms , that are aimed at destroying or jamming U.S. satellites and limiting American combat operations around the world . <p> Two direct-ascent missiles capable of hitting satellites in both lower and hig...  \n",
       "466   <h> Feds pay for study of gay men 's penis sizes <p> Kajsa Westman , second from right , of Stockholm , Sweden , and Victor Ng , right , of Seattle , tie balloons to a banner in preparation for the annual Gay Pride parade , Sunday , June 26 , 2011 in New York . One of the world 's oldest and largest gay pride parades was expected to become a victory celebration Sunday after New York 's histori...  \n",
       "1337  <h> How to Keep the Sabbath Day Holy <p> Sabbath-keeping reflects our relationship with God . How can we recapture positive principles and grow in this area ? <p> Exodus 19 and 20 talk about how God , when He gave the Ten Commandments , caused the earth to tremble and shake -- the manifestations were absolutely awesome . God said He came to test them \" that His fear may be before you , so that...  \n",
       "883   <p> A bad day for the Lib Dems , but not unexpectedly so . Call it sanguine , call it resigned ... <h> Lib Dems Corby pressed <p> The party expected to get squeezed in Corby , and we were . I suspect we lost some ' none of the above ' voters to Ukip and some left-leaning liberals to Labour ( and many others who just did n't vote ) . To forfeit our deposit by barely more than a dozen votes adde...  "
      ]
     },
     "execution_count": 2,
     "metadata": {},
     "output_type": "execute_result"
    }
   ],
   "source": [
    "pd.set_option('max_colwidth', 400)\n",
    "# subset = df.loc[df.variant_detector_breakdown != {}, [\"country\", \"variant\", \"variant_detector_breakdown\", \"text\"]]\n",
    "c1 = (df.variant == \"A\") & (df.country == \"GB\")\n",
    "c2 = (df.variant == \"B\") & (df.country == \"US\")\n",
    "subset = df.loc[c1, [\"country\", \"variant\", \"variant_detector_breakdown\", \"text\"]]\n",
    "subset.variant_detector_breakdown.apply(lambda i: list(i.keys())) \n",
    "all_A_GB = []\n",
    "for d in subset.variant_detector_breakdown:\n",
    "    for w, inner in d.items():\n",
    "        n = inner[\"count\"]\n",
    "        all_A_GB.extend([w]*n)\n",
    "subset = df.loc[c2, [\"country\", \"variant\", \"variant_detector_breakdown\", \"text\"]]\n",
    "subset.variant_detector_breakdown.apply(lambda i: list(i.keys())) \n",
    "all_B_US = []\n",
    "for d in subset.variant_detector_breakdown:\n",
    "    for w, inner in d.items():\n",
    "        n = inner[\"count\"]\n",
    "        all_B_US.extend([w]*n)\n",
    "subset = df.loc[df.variant_detector_breakdown != {}, [\"country\", \"variant\", \"variant_detector_breakdown\", \"text\"]]\n",
    "subset.sample(5)"
   ]
  },
  {
   "cell_type": "code",
   "execution_count": 3,
   "metadata": {},
   "outputs": [
    {
     "name": "stdout",
     "output_type": "stream",
     "text": [
      "|               |   text |\n",
      "|:--------------|-------:|\n",
      "| ('GB', 'A')   |     51 |\n",
      "| ('GB', 'B')   |    471 |\n",
      "| ('GB', 'MIX') |     78 |\n",
      "| ('US', 'A')   |    349 |\n",
      "| ('US', 'B')   |     78 |\n",
      "| ('US', 'MIX') |    136 |\n"
     ]
    }
   ],
   "source": [
    "print(subset.groupby([\"country\", \"variant\"]).count()[\"text\"].to_markdown())"
   ]
  },
  {
   "cell_type": "code",
   "execution_count": 6,
   "metadata": {},
   "outputs": [
    {
     "data": {
      "text/plain": [
       "[('gas', 59),\n",
       " ('hood', 31),\n",
       " ('movie', 23),\n",
       " ('store', 19),\n",
       " ('center', 15),\n",
       " ('attorney', 9),\n",
       " ('centers', 7),\n",
       " ('trailer', 7),\n",
       " ('favorite', 6),\n",
       " ('subway', 5)]"
      ]
     },
     "execution_count": 6,
     "metadata": {},
     "output_type": "execute_result"
    }
   ],
   "source": [
    "from collections import Counter\n",
    "Counter(all_A_GB).most_common(10)"
   ]
  },
  {
   "cell_type": "code",
   "execution_count": 7,
   "metadata": {},
   "outputs": [
    {
     "data": {
      "text/plain": [
       "[('car', 33),\n",
       " ('film', 19),\n",
       " ('shop', 14),\n",
       " ('holiday', 11),\n",
       " ('mobile', 11),\n",
       " ('films', 10),\n",
       " ('grey', 9),\n",
       " ('centre', 6),\n",
       " ('organisation', 6),\n",
       " ('behaviour', 6)]"
      ]
     },
     "execution_count": 7,
     "metadata": {},
     "output_type": "execute_result"
    }
   ],
   "source": [
    "from collections import Counter\n",
    "Counter(all_B_US).most_common(10)"
   ]
  },
  {
   "cell_type": "code",
   "execution_count": null,
   "metadata": {},
   "outputs": [],
   "source": []
  }
 ],
 "metadata": {
  "interpreter": {
   "hash": "7f6f5766036ee03d059e365a942add07f79c17033585e9357ee8157d52fe6bb9"
  },
  "kernelspec": {
   "display_name": "Python 3.8.3 ('base')",
   "language": "python",
   "name": "python3"
  },
  "language_info": {
   "codemirror_mode": {
    "name": "ipython",
    "version": 3
   },
   "file_extension": ".py",
   "mimetype": "text/x-python",
   "name": "python",
   "nbconvert_exporter": "python",
   "pygments_lexer": "ipython3",
   "version": "3.8.3"
  },
  "orig_nbformat": 4
 },
 "nbformat": 4,
 "nbformat_minor": 2
}
