{
 "cells": [
  {
   "cell_type": "code",
   "execution_count": 1,
   "metadata": {},
   "outputs": [],
   "source": [
    "import pandas as pd\n",
    "import matplotlib.pyplot as plt\n",
    "\n",
    "testpath = \"test-data/GloWBe-and-NOW-corpus-sample.json\"\n",
    "\n",
    "\n",
    "from utils import read_prevert, count_variants, get_lexicon, counts_to_category\n",
    "\n",
    "lex = get_lexicon()\n",
    "\n",
    "df = pd.read_json(testpath)\n",
    "df[\"variant_detector_count\"] = df.text.apply(lambda s: count_variants(s, lex)[0])\n",
    "df[\"variant_detector_breakdown\"] = df.text.apply(lambda s: count_variants(s, lex)[1])\n",
    "df[\"words\"] = df.text.apply(lambda t: len(t.split()))\n",
    "df[\"A_B\"] = df.variant_detector_count.apply(lambda d:d.get(\"A\", 0) - d.get(\"B\", 0))\n",
    "df[\"A_B_normalized\"] = df.A_B / df.words\n",
    "df[\"variant\"] = df.variant_detector_count.apply(counts_to_category)"
   ]
  },
  {
   "cell_type": "code",
   "execution_count": 2,
   "metadata": {},
   "outputs": [
    {
     "data": {
      "text/html": [
       "<div>\n",
       "<style scoped>\n",
       "    .dataframe tbody tr th:only-of-type {\n",
       "        vertical-align: middle;\n",
       "    }\n",
       "\n",
       "    .dataframe tbody tr th {\n",
       "        vertical-align: top;\n",
       "    }\n",
       "\n",
       "    .dataframe thead th {\n",
       "        text-align: right;\n",
       "    }\n",
       "</style>\n",
       "<table border=\"1\" class=\"dataframe\">\n",
       "  <thead>\n",
       "    <tr style=\"text-align: right;\">\n",
       "      <th></th>\n",
       "      <th>country</th>\n",
       "      <th>variant</th>\n",
       "      <th>variant_detector_breakdown</th>\n",
       "      <th>text</th>\n",
       "    </tr>\n",
       "  </thead>\n",
       "  <tbody>\n",
       "    <tr>\n",
       "      <th>740</th>\n",
       "      <td>GB</td>\n",
       "      <td>B</td>\n",
       "      <td>{'labour': {'variant': 'B', 'count': 2}, 'minimise': {'variant': 'B', 'count': 1}}</td>\n",
       "      <td>&lt;p&gt; The billionaire hoping to become Britain 's biggest fracker has said banning shale gas would cement the decline of UK manufacturing , as he brushed off environmental concerns about the hotly disputed energy source . &lt;p&gt; Asked about the impact fracking could have , Ratcliffe said : \" I 'm from the north and there are parts of the north that are not happy places . \" He added that some towns ...</td>\n",
       "    </tr>\n",
       "    <tr>\n",
       "      <th>1115</th>\n",
       "      <td>US</td>\n",
       "      <td>A</td>\n",
       "      <td>{'revelers': {'variant': 'A', 'count': 1}, 'favorite': {'variant': 'A', 'count': 1}}</td>\n",
       "      <td>&lt;h&gt; The Lone Writer &lt;h&gt; A Bit of Seasonal Promotion &lt;p&gt; Halloween is approaching , and I shudder to think of any reader being without a fistful of eerie stories to see them through that creepiest of nights . I want to do my humble bit to provide a shiver or two , and so I offer this promotion of my book , Wilderness : A Collection of Dark Tales , to encourage those in need to fortify themselve...</td>\n",
       "    </tr>\n",
       "    <tr>\n",
       "      <th>357</th>\n",
       "      <td>GB</td>\n",
       "      <td>B</td>\n",
       "      <td>{'organisation': {'variant': 'B', 'count': 4}, 'personalised': {'variant': 'B', 'count': 1}}</td>\n",
       "      <td>&lt;h&gt; Tech City UK was given the power to endorse up to 200 overseas individuals each year with the Exceptional Talent Visa but figures obtained by Techworld reveal that it 's endorsed just seven since last April . &lt;p&gt; Sam Shead joined Techworld as a reporter in July 2013 . He studied Geography with Science Communication at Royal Holloway University before completing a postgraduate diploma in jo...</td>\n",
       "    </tr>\n",
       "    <tr>\n",
       "      <th>662</th>\n",
       "      <td>GB</td>\n",
       "      <td>B</td>\n",
       "      <td>{'publicise': {'variant': 'B', 'count': 1}}</td>\n",
       "      <td>&lt;h&gt; Sir Cliff Richard is to face no further action following the South Yorkshire Police investigation into allegations of historical sexual abuse , it has been announced . &lt;p&gt; * August 14 - Sir Cliff 's property in Sunningdale , Berkshire , is raided by South Yorkshire Police following an allegation of a sex crime involving a young boy in the 1980s . The police 's handling of the raid attracts...</td>\n",
       "    </tr>\n",
       "    <tr>\n",
       "      <th>222</th>\n",
       "      <td>US</td>\n",
       "      <td>A</td>\n",
       "      <td>{'specialty': {'variant': 'A', 'count': 2}, 'honor': {'variant': 'A', 'count': 1}, 'specialties': {'variant': 'A', 'count': 2}}</td>\n",
       "      <td>&lt;h&gt; The Leading Physicians of the World and International Association of Chiropractors Will Place Their Top Doctors in this Year 's Edition &lt;h&gt; Share Article &lt;h&gt; Doctors from the International Association of Chiropractors will be featured in this year 's edition of The Leading Physicians of the World . With a long track record of selecting the most esteemed , and up and coming physicians from ...</td>\n",
       "    </tr>\n",
       "  </tbody>\n",
       "</table>\n",
       "</div>"
      ],
      "text/plain": [
       "     country variant  \\\n",
       "740       GB       B   \n",
       "1115      US       A   \n",
       "357       GB       B   \n",
       "662       GB       B   \n",
       "222       US       A   \n",
       "\n",
       "                                                                                                           variant_detector_breakdown  \\\n",
       "740                                                {'labour': {'variant': 'B', 'count': 2}, 'minimise': {'variant': 'B', 'count': 1}}   \n",
       "1115                                             {'revelers': {'variant': 'A', 'count': 1}, 'favorite': {'variant': 'A', 'count': 1}}   \n",
       "357                                      {'organisation': {'variant': 'B', 'count': 4}, 'personalised': {'variant': 'B', 'count': 1}}   \n",
       "662                                                                                       {'publicise': {'variant': 'B', 'count': 1}}   \n",
       "222   {'specialty': {'variant': 'A', 'count': 2}, 'honor': {'variant': 'A', 'count': 1}, 'specialties': {'variant': 'A', 'count': 2}}   \n",
       "\n",
       "                                                                                                                                                                                                                                                                                                                                                                                                                 text  \n",
       "740   <p> The billionaire hoping to become Britain 's biggest fracker has said banning shale gas would cement the decline of UK manufacturing , as he brushed off environmental concerns about the hotly disputed energy source . <p> Asked about the impact fracking could have , Ratcliffe said : \" I 'm from the north and there are parts of the north that are not happy places . \" He added that some towns ...  \n",
       "1115  <h> The Lone Writer <h> A Bit of Seasonal Promotion <p> Halloween is approaching , and I shudder to think of any reader being without a fistful of eerie stories to see them through that creepiest of nights . I want to do my humble bit to provide a shiver or two , and so I offer this promotion of my book , Wilderness : A Collection of Dark Tales , to encourage those in need to fortify themselve...  \n",
       "357   <h> Tech City UK was given the power to endorse up to 200 overseas individuals each year with the Exceptional Talent Visa but figures obtained by Techworld reveal that it 's endorsed just seven since last April . <p> Sam Shead joined Techworld as a reporter in July 2013 . He studied Geography with Science Communication at Royal Holloway University before completing a postgraduate diploma in jo...  \n",
       "662   <h> Sir Cliff Richard is to face no further action following the South Yorkshire Police investigation into allegations of historical sexual abuse , it has been announced . <p> * August 14 - Sir Cliff 's property in Sunningdale , Berkshire , is raided by South Yorkshire Police following an allegation of a sex crime involving a young boy in the 1980s . The police 's handling of the raid attracts...  \n",
       "222   <h> The Leading Physicians of the World and International Association of Chiropractors Will Place Their Top Doctors in this Year 's Edition <h> Share Article <h> Doctors from the International Association of Chiropractors will be featured in this year 's edition of The Leading Physicians of the World . With a long track record of selecting the most esteemed , and up and coming physicians from ...  "
      ]
     },
     "execution_count": 2,
     "metadata": {},
     "output_type": "execute_result"
    }
   ],
   "source": [
    "pd.set_option('max_colwidth', 400)\n",
    "# subset = df.loc[df.variant_detector_breakdown != {}, [\"country\", \"variant\", \"variant_detector_breakdown\", \"text\"]]\n",
    "c1 = (df.variant == \"A\") & (df.country == \"GB\")\n",
    "c2 = (df.variant == \"B\") & (df.country == \"US\")\n",
    "subset = df.loc[c1, [\"country\", \"variant\", \"variant_detector_breakdown\", \"text\"]]\n",
    "subset.variant_detector_breakdown.apply(lambda i: list(i.keys())) \n",
    "all_A_GB = []\n",
    "for d in subset.variant_detector_breakdown:\n",
    "    for w, inner in d.items():\n",
    "        n = inner[\"count\"]\n",
    "        all_A_GB.extend([w]*n)\n",
    "subset = df.loc[c2, [\"country\", \"variant\", \"variant_detector_breakdown\", \"text\"]]\n",
    "subset.variant_detector_breakdown.apply(lambda i: list(i.keys())) \n",
    "all_B_US = []\n",
    "for d in subset.variant_detector_breakdown:\n",
    "    for w, inner in d.items():\n",
    "        n = inner[\"count\"]\n",
    "        all_B_US.extend([w]*n)\n",
    "subset = df.loc[df.variant_detector_breakdown != {}, [\"country\", \"variant\", \"variant_detector_breakdown\", \"text\"]]\n",
    "subset.sample(5)"
   ]
  },
  {
   "cell_type": "code",
   "execution_count": 7,
   "metadata": {},
   "outputs": [
    {
     "name": "stdout",
     "output_type": "stream",
     "text": [
      "|               |   text |\n",
      "|:--------------|-------:|\n",
      "| ('GB', 'A')   |     50 |\n",
      "| ('GB', 'B')   |    459 |\n",
      "| ('GB', 'MIX') |     32 |\n",
      "| ('GB', 'UNK') |    183 |\n",
      "| ('US', 'A')   |    404 |\n",
      "| ('US', 'B')   |     43 |\n",
      "| ('US', 'MIX') |     25 |\n",
      "| ('US', 'UNK') |    249 |\n"
     ]
    }
   ],
   "source": [
    "subset = df.loc[:, [\"country\", \"variant\", \"variant_detector_breakdown\", \"text\"]]\n",
    "\n",
    "print(subset.groupby([\"country\", \"variant\"]).count()[\"text\"].to_markdown())"
   ]
  },
  {
   "cell_type": "code",
   "execution_count": 4,
   "metadata": {},
   "outputs": [
    {
     "data": {
      "text/plain": [
       "[('movie', 38),\n",
       " ('center', 28),\n",
       " ('favorite', 9),\n",
       " ('centers', 8),\n",
       " ('movies', 6),\n",
       " ('diaper', 5),\n",
       " ('harbor', 5),\n",
       " ('colors', 4),\n",
       " ('theater', 3),\n",
       " ('theatre', 3)]"
      ]
     },
     "execution_count": 4,
     "metadata": {},
     "output_type": "execute_result"
    }
   ],
   "source": [
    "from collections import Counter\n",
    "Counter(all_A_GB).most_common(10)"
   ]
  },
  {
   "cell_type": "code",
   "execution_count": 5,
   "metadata": {},
   "outputs": [
    {
     "data": {
      "text/plain": [
       "[('grey', 9),\n",
       " ('centre', 7),\n",
       " ('travelled', 7),\n",
       " ('organisation', 6),\n",
       " ('behaviour', 6),\n",
       " ('amongst', 5),\n",
       " ('colour', 5),\n",
       " ('travellers', 4),\n",
       " ('organisations', 4),\n",
       " ('travelling', 4)]"
      ]
     },
     "execution_count": 5,
     "metadata": {},
     "output_type": "execute_result"
    }
   ],
   "source": [
    "from collections import Counter\n",
    "Counter(all_B_US).most_common(10)"
   ]
  },
  {
   "cell_type": "code",
   "execution_count": 9,
   "metadata": {},
   "outputs": [
    {
     "data": {
      "text/plain": [
       "'B'"
      ]
     },
     "execution_count": 9,
     "metadata": {},
     "output_type": "execute_result"
    }
   ],
   "source": [
    "lex[\"labelled\"]"
   ]
  },
  {
   "cell_type": "code",
   "execution_count": null,
   "metadata": {},
   "outputs": [],
   "source": []
  }
 ],
 "metadata": {
  "interpreter": {
   "hash": "7f6f5766036ee03d059e365a942add07f79c17033585e9357ee8157d52fe6bb9"
  },
  "kernelspec": {
   "display_name": "Python 3.8.3 ('base')",
   "language": "python",
   "name": "python3"
  },
  "language_info": {
   "codemirror_mode": {
    "name": "ipython",
    "version": 3
   },
   "file_extension": ".py",
   "mimetype": "text/x-python",
   "name": "python",
   "nbconvert_exporter": "python",
   "pygments_lexer": "ipython3",
   "version": "3.8.3"
  },
  "orig_nbformat": 4
 },
 "nbformat": 4,
 "nbformat_minor": 2
}
