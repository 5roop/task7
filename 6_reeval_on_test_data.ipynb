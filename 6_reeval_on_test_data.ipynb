{
 "cells": [
  {
   "cell_type": "code",
   "execution_count": 1,
   "metadata": {},
   "outputs": [],
   "source": [
    "import pandas as pd\n",
    "import matplotlib.pyplot as plt\n",
    "\n",
    "testpath = \"test-data/GloWBe-and-NOW-corpus-sample.json\"\n",
    "\n",
    "\n",
    "from utils import read_prevert, count_variants, get_lexicon, counts_to_category\n",
    "\n",
    "lex = get_lexicon()\n",
    "\n",
    "df = pd.read_json(testpath)\n",
    "df[\"variant_detector_count\"] = df.text.apply(lambda s: count_variants(s, lex)[0])\n",
    "df[\"variant_detector_breakdown\"] = df.text.apply(lambda s: count_variants(s, lex)[1])\n",
    "df[\"words\"] = df.text.apply(lambda t: len(t.split()))\n",
    "df[\"A_B\"] = df.variant_detector_count.apply(lambda d:d.get(\"A\", 0) - d.get(\"B\", 0))\n",
    "df[\"A_B_normalized\"] = df.A_B / df.words\n",
    "df[\"variant\"] = df.variant_detector_count.apply(counts_to_category)"
   ]
  },
  {
   "cell_type": "code",
   "execution_count": 3,
   "metadata": {},
   "outputs": [
    {
     "data": {
      "text/plain": [
       "0         {'B': 3, 'A': 1}\n",
       "1                 {'A': 3}\n",
       "2         {'B': 8, 'A': 3}\n",
       "3       {'A': 18, 'B': 10}\n",
       "4         {'A': 1, 'B': 2}\n",
       "               ...        \n",
       "1440                    {}\n",
       "1441                    {}\n",
       "1442              {'A': 1}\n",
       "1443      {'A': 4, 'B': 1}\n",
       "1444              {'A': 6}\n",
       "Name: variant_detector_count, Length: 1445, dtype: object"
      ]
     },
     "execution_count": 3,
     "metadata": {},
     "output_type": "execute_result"
    }
   ],
   "source": [
    "df.variant_detector_count"
   ]
  },
  {
   "cell_type": "code",
   "execution_count": 2,
   "metadata": {},
   "outputs": [
    {
     "data": {
      "text/plain": [
       "Index(['id', 'words', 'country', 'website', 'title', 'text', 'lower_text',\n",
       "       'corpus', 'variant_detector_count', 'variant_detector_breakdown', 'A_B',\n",
       "       'A_B_normalized', 'variant'],\n",
       "      dtype='object')"
      ]
     },
     "execution_count": 2,
     "metadata": {},
     "output_type": "execute_result"
    }
   ],
   "source": [
    "df.columns"
   ]
  },
  {
   "cell_type": "code",
   "execution_count": 14,
   "metadata": {},
   "outputs": [
    {
     "data": {
      "text/html": [
       "<div>\n",
       "<style scoped>\n",
       "    .dataframe tbody tr th:only-of-type {\n",
       "        vertical-align: middle;\n",
       "    }\n",
       "\n",
       "    .dataframe tbody tr th {\n",
       "        vertical-align: top;\n",
       "    }\n",
       "\n",
       "    .dataframe thead th {\n",
       "        text-align: right;\n",
       "    }\n",
       "</style>\n",
       "<table border=\"1\" class=\"dataframe\">\n",
       "  <thead>\n",
       "    <tr style=\"text-align: right;\">\n",
       "      <th></th>\n",
       "      <th>country</th>\n",
       "      <th>variant</th>\n",
       "      <th>variant_detector_breakdown</th>\n",
       "      <th>text</th>\n",
       "    </tr>\n",
       "  </thead>\n",
       "  <tbody>\n",
       "    <tr>\n",
       "      <th>1432</th>\n",
       "      <td>US</td>\n",
       "      <td>MIX</td>\n",
       "      <td>{'favor': {'variant': 'A', 'count': 1}, 'film': {'variant': 'B', 'count': 1}}</td>\n",
       "      <td>&lt;p&gt; All of this and nothing Kerry Tribe . Installation view at the Hammer Museum , January 30-April 24 , 2011 . Photo by Brian Forrest . &lt;p&gt; All of this and nothing Fernando Ortega . Installation view at the Hammer Museum , January 30-April 24 , 2011 . Photo by Brian Forrest . &lt;p&gt; All of this and nothing is the sixth in the Hammer Museum 's biennial invitational exhibition series , which highl...</td>\n",
       "    </tr>\n",
       "    <tr>\n",
       "      <th>916</th>\n",
       "      <td>GB</td>\n",
       "      <td>B</td>\n",
       "      <td>{'oedema': {'variant': 'B', 'count': 8}, 'hospitalisation': {'variant': 'B', 'count': 1}, 'litre': {'variant': 'B', 'count': 1}, 'uraemia': {'variant': 'B', 'count': 1}, 'amongst': {'variant': 'B', 'count': 1}}</td>\n",
       "      <td>&lt;h&gt; Diuretics &lt;p&gt; Diuretics increase urine excretion and are commonly called \" water tablets \" . In general , they inhibit electrolyte reabsorption from the lumen of the nephron , increasing osmolarity and enhancing water excretion . &lt;p&gt; Diuretics have different clinical uses depending on their sites and mechanisms of action . The sub-classes of diuretics : &lt;p&gt; Thiazides ( bendroflumethiazide ...</td>\n",
       "    </tr>\n",
       "    <tr>\n",
       "      <th>1013</th>\n",
       "      <td>GB</td>\n",
       "      <td>B</td>\n",
       "      <td>{'centre': {'variant': 'B', 'count': 2}, 'fertiliser': {'variant': 'B', 'count': 2}, 'liberalisation': {'variant': 'B', 'count': 2}, 'mechanised': {'variant': 'B', 'count': 1}, 'favour': {'variant': 'B', 'count': 1}, 'organisation': {'variant': 'B', 'count': 1}, 'organise': {'variant': 'B', 'count': 1}, 'meagre': {'variant': 'B', 'count': 1}, 'equalling': {'variant': 'B', 'count': 1}, 'corn': ...</td>\n",
       "      <td>&lt;p&gt; The road from Cairo to Alexandria is lined with mega-farms growing strawberries , mangos and citrus fruit bound for foreign shores . In what was desert just decades ago , luxury produce now sprouts from the ground . &lt;p&gt; The greening of this arid landscape was part of ambitious government plans to sustainably increase Egypt ' s cultivated territory by turning swaths of sand into fertile ear...</td>\n",
       "    </tr>\n",
       "    <tr>\n",
       "      <th>886</th>\n",
       "      <td>GB</td>\n",
       "      <td>B</td>\n",
       "      <td>{'car': {'variant': 'B', 'count': 1}}</td>\n",
       "      <td>&lt;p&gt; Why am I listening to this ? He 's no Garvey , Malcolm . SMH To you youngers , DO NOT try to be like these guys . They spend most their lives living out teen fantasies and looking for the attention of every . &lt;p&gt; theory tests 100 and practicals 350 this is a process of getting your license payments taken after test is done and everyone is happy , many have been done and proof is available ...</td>\n",
       "    </tr>\n",
       "    <tr>\n",
       "      <th>329</th>\n",
       "      <td>GB</td>\n",
       "      <td>B</td>\n",
       "      <td>{'defence': {'variant': 'B', 'count': 1}, 'angry': {'variant': 'B', 'count': 1}, 'attorney': {'variant': 'A', 'count': 1}, 'organisation': {'variant': 'B', 'count': 1}}</td>\n",
       "      <td>&lt;p&gt; On Thursday , the same court sent him to Rawalpindi 's Adiala jail for a further two weeks , the defence lawyer Rizwan Abbasi told AFP . &lt;p&gt; The Mumbai attacks left 166 people dead and were blamed on the banned Pakistani militant group Lashkar-e-Taiba ( LeT ) . Pakistan 's failure either to hand over or prosecute those accused over the attack has angered India and damaged relations between...</td>\n",
       "    </tr>\n",
       "  </tbody>\n",
       "</table>\n",
       "</div>"
      ],
      "text/plain": [
       "     country variant  \\\n",
       "1432      US     MIX   \n",
       "916       GB       B   \n",
       "1013      GB       B   \n",
       "886       GB       B   \n",
       "329       GB       B   \n",
       "\n",
       "                                                                                                                                                                                                                                                                                                                                                                                           variant_detector_breakdown  \\\n",
       "1432                                                                                                                                                                                                                                                                                                                                    {'favor': {'variant': 'A', 'count': 1}, 'film': {'variant': 'B', 'count': 1}}   \n",
       "916                                                                                                                                                                                                {'oedema': {'variant': 'B', 'count': 8}, 'hospitalisation': {'variant': 'B', 'count': 1}, 'litre': {'variant': 'B', 'count': 1}, 'uraemia': {'variant': 'B', 'count': 1}, 'amongst': {'variant': 'B', 'count': 1}}   \n",
       "1013  {'centre': {'variant': 'B', 'count': 2}, 'fertiliser': {'variant': 'B', 'count': 2}, 'liberalisation': {'variant': 'B', 'count': 2}, 'mechanised': {'variant': 'B', 'count': 1}, 'favour': {'variant': 'B', 'count': 1}, 'organisation': {'variant': 'B', 'count': 1}, 'organise': {'variant': 'B', 'count': 1}, 'meagre': {'variant': 'B', 'count': 1}, 'equalling': {'variant': 'B', 'count': 1}, 'corn': ...   \n",
       "886                                                                                                                                                                                                                                                                                                                                                                             {'car': {'variant': 'B', 'count': 1}}   \n",
       "329                                                                                                                                                                                                                                          {'defence': {'variant': 'B', 'count': 1}, 'angry': {'variant': 'B', 'count': 1}, 'attorney': {'variant': 'A', 'count': 1}, 'organisation': {'variant': 'B', 'count': 1}}   \n",
       "\n",
       "                                                                                                                                                                                                                                                                                                                                                                                                                 text  \n",
       "1432  <p> All of this and nothing Kerry Tribe . Installation view at the Hammer Museum , January 30-April 24 , 2011 . Photo by Brian Forrest . <p> All of this and nothing Fernando Ortega . Installation view at the Hammer Museum , January 30-April 24 , 2011 . Photo by Brian Forrest . <p> All of this and nothing is the sixth in the Hammer Museum 's biennial invitational exhibition series , which highl...  \n",
       "916   <h> Diuretics <p> Diuretics increase urine excretion and are commonly called \" water tablets \" . In general , they inhibit electrolyte reabsorption from the lumen of the nephron , increasing osmolarity and enhancing water excretion . <p> Diuretics have different clinical uses depending on their sites and mechanisms of action . The sub-classes of diuretics : <p> Thiazides ( bendroflumethiazide ...  \n",
       "1013  <p> The road from Cairo to Alexandria is lined with mega-farms growing strawberries , mangos and citrus fruit bound for foreign shores . In what was desert just decades ago , luxury produce now sprouts from the ground . <p> The greening of this arid landscape was part of ambitious government plans to sustainably increase Egypt ' s cultivated territory by turning swaths of sand into fertile ear...  \n",
       "886   <p> Why am I listening to this ? He 's no Garvey , Malcolm . SMH To you youngers , DO NOT try to be like these guys . They spend most their lives living out teen fantasies and looking for the attention of every . <p> theory tests 100 and practicals 350 this is a process of getting your license payments taken after test is done and everyone is happy , many have been done and proof is available ...  \n",
       "329   <p> On Thursday , the same court sent him to Rawalpindi 's Adiala jail for a further two weeks , the defence lawyer Rizwan Abbasi told AFP . <p> The Mumbai attacks left 166 people dead and were blamed on the banned Pakistani militant group Lashkar-e-Taiba ( LeT ) . Pakistan 's failure either to hand over or prosecute those accused over the attack has angered India and damaged relations between...  "
      ]
     },
     "execution_count": 14,
     "metadata": {},
     "output_type": "execute_result"
    }
   ],
   "source": [
    "pd.set_option('max_colwidth', 400)\n",
    "# subset = df.loc[df.variant_detector_breakdown != {}, [\"country\", \"variant\", \"variant_detector_breakdown\", \"text\"]]\n",
    "c1 = (df.variant == \"A\") & (df.country == \"GB\")\n",
    "c2 = (df.variant == \"B\") & (df.country == \"US\")\n",
    "subset = df.loc[c1, [\"country\", \"variant\", \"variant_detector_breakdown\", \"text\"]]\n",
    "subset.variant_detector_breakdown.apply(lambda i: list(i.keys())) \n",
    "all_A_GB = []\n",
    "for d in subset.variant_detector_breakdown:\n",
    "    for w, inner in d.items():\n",
    "        n = inner[\"count\"]\n",
    "        all_A_GB.extend([w]*n)\n",
    "subset = df.loc[c2, [\"country\", \"variant\", \"variant_detector_breakdown\", \"text\"]]\n",
    "subset.variant_detector_breakdown.apply(lambda i: list(i.keys())) \n",
    "all_B_US = []\n",
    "for d in subset.variant_detector_breakdown:\n",
    "    for w, inner in d.items():\n",
    "        n = inner[\"count\"]\n",
    "        all_B_US.extend([w]*n)\n",
    "subset = df.loc[df.variant_detector_breakdown != {}, [\"country\", \"variant\", \"variant_detector_breakdown\", \"text\"]]\n",
    "subset.sample(5)"
   ]
  },
  {
   "cell_type": "code",
   "execution_count": 9,
   "metadata": {},
   "outputs": [
    {
     "name": "stdout",
     "output_type": "stream",
     "text": [
      "|               |   text |\n",
      "|:--------------|-------:|\n",
      "| ('GB', 'A')   |     51 |\n",
      "| ('GB', 'B')   |    471 |\n",
      "| ('GB', 'MIX') |     78 |\n",
      "| ('US', 'A')   |    349 |\n",
      "| ('US', 'B')   |     78 |\n",
      "| ('US', 'MIX') |    136 |\n"
     ]
    }
   ],
   "source": [
    "print(subset.groupby([\"country\", \"variant\"]).count()[\"text\"].to_markdown())"
   ]
  },
  {
   "cell_type": "code",
   "execution_count": 13,
   "metadata": {},
   "outputs": [
    {
     "data": {
      "text/plain": [
       "[('gas', 59),\n",
       " ('hood', 31),\n",
       " ('movie', 23),\n",
       " ('store', 19),\n",
       " ('center', 15),\n",
       " ('attorney', 9),\n",
       " ('centers', 7),\n",
       " ('trailer', 7),\n",
       " ('favorite', 6),\n",
       " ('subway', 5),\n",
       " ('armour', 5),\n",
       " ('diaper', 5),\n",
       " ('film', 4),\n",
       " ('stores', 4),\n",
       " ('theater', 3),\n",
       " ('theatre', 3),\n",
       " ('crazy', 3),\n",
       " ('car', 3),\n",
       " ('defense', 3),\n",
       " ('colors', 3)]"
      ]
     },
     "execution_count": 13,
     "metadata": {},
     "output_type": "execute_result"
    }
   ],
   "source": [
    "from collections import Counter\n",
    "Counter(all_A_GB).most_common(20)"
   ]
  },
  {
   "cell_type": "code",
   "execution_count": 16,
   "metadata": {},
   "outputs": [
    {
     "data": {
      "text/plain": [
       "[('car', 33),\n",
       " ('film', 19),\n",
       " ('shop', 14),\n",
       " ('holiday', 11),\n",
       " ('mobile', 11),\n",
       " ('films', 10),\n",
       " ('grey', 9),\n",
       " ('centre', 6),\n",
       " ('organisation', 6),\n",
       " ('behaviour', 6),\n",
       " ('shops', 6),\n",
       " ('travelled', 6),\n",
       " ('somewhere', 5),\n",
       " ('colour', 5),\n",
       " ('movie', 4),\n",
       " ('travellers', 4),\n",
       " ('organisations', 4),\n",
       " ('parlour', 4),\n",
       " ('cafe', 3),\n",
       " ('amongst', 3)]"
      ]
     },
     "execution_count": 16,
     "metadata": {},
     "output_type": "execute_result"
    }
   ],
   "source": [
    "from collections import Counter\n",
    "Counter(all_B_US).most_common(20)"
   ]
  },
  {
   "cell_type": "code",
   "execution_count": null,
   "metadata": {},
   "outputs": [],
   "source": []
  }
 ],
 "metadata": {
  "interpreter": {
   "hash": "7f6f5766036ee03d059e365a942add07f79c17033585e9357ee8157d52fe6bb9"
  },
  "kernelspec": {
   "display_name": "Python 3.8.3 ('base')",
   "language": "python",
   "name": "python3"
  },
  "language_info": {
   "codemirror_mode": {
    "name": "ipython",
    "version": 3
   },
   "file_extension": ".py",
   "mimetype": "text/x-python",
   "name": "python",
   "nbconvert_exporter": "python",
   "pygments_lexer": "ipython3",
   "version": "3.8.3"
  },
  "orig_nbformat": 4
 },
 "nbformat": 4,
 "nbformat_minor": 2
}
