{
 "cells": [
  {
   "cell_type": "code",
   "execution_count": 1,
   "metadata": {},
   "outputs": [],
   "source": [
    "from utils import get_lexicon, chars_to_remove\n",
    "import logging\n",
    "logging.basicConfig(format='%(asctime)s %(message)s', level=logging.INFO)\n",
    "lex = get_lexicon()\n",
    "\n",
    "f = \"sample.txt\"\n",
    "with open(f, \"r\") as file:\n",
    "    sample = file.read()\n",
    "\n",
    "def preprocess(s:str):\n",
    "    for c in chars_to_remove:\n",
    "        s = s.replace(c, \"\")\n",
    "    s = s.casefold()\n",
    "    return s\n",
    "\n",
    "def count_variants(s: str, lex):\n",
    "    counts = dict()\n",
    "    for word in preprocess(s).split():\n",
    "        variant = lex.get(word, None)\n",
    "        if not variant:\n",
    "            continue\n",
    "        logging.info(f\"Found word {word}, presumed variant: {variant}.\")\n",
    "        counts[variant] = counts.get(variant, 0) + 1\n",
    "    return counts"
   ]
  },
  {
   "cell_type": "code",
   "execution_count": 2,
   "metadata": {},
   "outputs": [
    {
     "name": "stderr",
     "output_type": "stream",
     "text": [
      "2022-02-15 14:58:02,392 Found word tires, presumed variant: A.\n",
      "2022-02-15 14:58:02,395 Found word airplanes, presumed variant: A.\n",
      "2022-02-15 14:58:02,396 Found word traveler, presumed variant: A.\n",
      "2022-02-15 14:58:02,397 Found word traveler, presumed variant: A.\n",
      "2022-02-15 14:58:02,398 Found word traveler, presumed variant: A.\n",
      "2022-02-15 14:58:02,400 Found word traveler, presumed variant: A.\n",
      "2022-02-15 14:58:02,400 Found word traveler, presumed variant: A.\n",
      "2022-02-15 14:58:02,401 Found word analyses, presumed variant: B.\n",
      "2022-02-15 14:58:02,402 Found word et, presumed variant: A.\n",
      "2022-02-15 14:58:02,403 Found word practice, presumed variant: A.\n",
      "2022-02-15 14:58:02,403 Found word programs, presumed variant: A.\n",
      "2022-02-15 14:58:02,404 Found word program, presumed variant: A.\n",
      "2022-02-15 14:58:02,405 Found word stories, presumed variant: A.\n"
     ]
    },
    {
     "data": {
      "text/plain": [
       "{'A': 12, 'B': 1}"
      ]
     },
     "execution_count": 2,
     "metadata": {},
     "output_type": "execute_result"
    }
   ],
   "source": [
    "count_variants(sample, lex)\n"
   ]
  },
  {
   "cell_type": "code",
   "execution_count": null,
   "metadata": {},
   "outputs": [],
   "source": []
  },
  {
   "cell_type": "code",
   "execution_count": null,
   "metadata": {},
   "outputs": [],
   "source": []
  }
 ],
 "metadata": {
  "interpreter": {
   "hash": "7f6f5766036ee03d059e365a942add07f79c17033585e9357ee8157d52fe6bb9"
  },
  "kernelspec": {
   "display_name": "Python 3.8.3 ('base')",
   "language": "python",
   "name": "python3"
  },
  "language_info": {
   "codemirror_mode": {
    "name": "ipython",
    "version": 3
   },
   "file_extension": ".py",
   "mimetype": "text/x-python",
   "name": "python",
   "nbconvert_exporter": "python",
   "pygments_lexer": "ipython3",
   "version": "3.8.3"
  },
  "orig_nbformat": 4
 },
 "nbformat": 4,
 "nbformat_minor": 2
}
