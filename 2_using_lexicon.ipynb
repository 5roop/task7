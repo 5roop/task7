{
 "cells": [
  {
   "cell_type": "code",
   "execution_count": 1,
   "metadata": {},
   "outputs": [],
   "source": [
    "from utils import get_lexicon, preprocess, count_variants\n",
    "import logging\n",
    "logging.basicConfig(format='%(asctime)s %(message)s', level=logging.INFO)\n",
    "\n",
    "\n",
    "lex = get_lexicon(min_length=3, only_verified=True)\n",
    "\n",
    "f = \"sample.txt\"\n",
    "with open(f, \"r\") as file:\n",
    "    sample = file.read()\n",
    "\n",
    "\n"
   ]
  },
  {
   "cell_type": "code",
   "execution_count": 2,
   "metadata": {},
   "outputs": [
    {
     "name": "stderr",
     "output_type": "stream",
     "text": [
      "2022-02-16 10:02:21,842 Found word airplanes, presumed variant: A.\n",
      "2022-02-16 10:02:21,844 Found word traveler, presumed variant: A.\n",
      "2022-02-16 10:02:21,845 Found word traveler, presumed variant: A.\n",
      "2022-02-16 10:02:21,846 Found word traveler, presumed variant: A.\n",
      "2022-02-16 10:02:21,847 Found word traveler, presumed variant: A.\n",
      "2022-02-16 10:02:21,848 Found word traveler, presumed variant: A.\n",
      "2022-02-16 10:02:21,848 Found word analyses, presumed variant: B.\n"
     ]
    },
    {
     "data": {
      "text/plain": [
       "{'A': 6, 'B': 1}"
      ]
     },
     "execution_count": 2,
     "metadata": {},
     "output_type": "execute_result"
    }
   ],
   "source": [
    "count_variants(sample, lex)\n"
   ]
  },
  {
   "cell_type": "code",
   "execution_count": 3,
   "metadata": {},
   "outputs": [
    {
     "name": "stderr",
     "output_type": "stream",
     "text": [
      "2022-02-16 10:02:22,074 Found word analysed, presumed variant: B.\n"
     ]
    },
    {
     "data": {
      "text/plain": [
       "{'B': 1}"
      ]
     },
     "execution_count": 3,
     "metadata": {},
     "output_type": "execute_result"
    }
   ],
   "source": [
    "count_variants(\"We analysed Her Majesty's biscuits and found out they crumble ever so scrumptiously\", lex)"
   ]
  },
  {
   "cell_type": "code",
   "execution_count": null,
   "metadata": {},
   "outputs": [],
   "source": []
  }
 ],
 "metadata": {
  "interpreter": {
   "hash": "7f6f5766036ee03d059e365a942add07f79c17033585e9357ee8157d52fe6bb9"
  },
  "kernelspec": {
   "display_name": "Python 3.8.3 ('base')",
   "language": "python",
   "name": "python3"
  },
  "language_info": {
   "codemirror_mode": {
    "name": "ipython",
    "version": 3
   },
   "file_extension": ".py",
   "mimetype": "text/x-python",
   "name": "python",
   "nbconvert_exporter": "python",
   "pygments_lexer": "ipython3",
   "version": "3.8.3"
  },
  "orig_nbformat": 4
 },
 "nbformat": 4,
 "nbformat_minor": 2
}
