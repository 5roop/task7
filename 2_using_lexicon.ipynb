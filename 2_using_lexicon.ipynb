{
 "cells": [
  {
   "cell_type": "code",
   "execution_count": 21,
   "metadata": {},
   "outputs": [],
   "source": [
    "from utils import get_lexicon, preprocess, count_variants\n",
    "import logging\n",
    "logging.basicConfig(format='%(asctime)s %(message)s', level=logging.WARNING)\n",
    "\n",
    "\n",
    "lex = get_lexicon(min_length=3, only_verified=True)\n",
    "\n",
    "f = \"sample.txt\"\n",
    "with open(f, \"r\") as file:\n",
    "    sample = file.read()"
   ]
  },
  {
   "cell_type": "code",
   "execution_count": 22,
   "metadata": {},
   "outputs": [
    {
     "data": {
      "text/plain": [
       "({'A': 6, 'B': 1},\n",
       " {'airplanes': {'variant': 'A', 'count': 1},\n",
       "  'traveler': {'variant': 'A', 'count': 5},\n",
       "  'analyses': {'variant': 'B', 'count': 1}})"
      ]
     },
     "execution_count": 22,
     "metadata": {},
     "output_type": "execute_result"
    }
   ],
   "source": [
    "count_variants(sample, lex)\n"
   ]
  },
  {
   "cell_type": "code",
   "execution_count": 23,
   "metadata": {},
   "outputs": [],
   "source": [
    "import pandas as pd\n",
    "for file in [\"NOW-GB-corpus-sample.json\",  \"NOW-US-corpus-sample.json\", \"NOW-corpus-sample.json\", \"GloWBe-and-NOW-corpus-sample.json\"]:\n",
    "    df = pd.read_json(f\"test-data/{file}\")\n",
    "    df[\"variant_detector_count\"] = df.lower_text.apply(lambda s: count_variants(s, lex)[0])\n",
    "    df[\"variant_detector_breakdown\"] = df.lower_text.apply(lambda s: count_variants(s, lex)[1])\n",
    "    df.to_json(f\"test-data/{file.replace('.json', '-output.json')}\", orient=\"records\", indent=4)"
   ]
  },
  {
   "cell_type": "code",
   "execution_count": 24,
   "metadata": {},
   "outputs": [
    {
     "data": {
      "text/plain": [
       "GB    724\n",
       "US    721\n",
       "Name: country, dtype: int64"
      ]
     },
     "execution_count": 24,
     "metadata": {},
     "output_type": "execute_result"
    }
   ],
   "source": [
    "df.country.value_counts()"
   ]
  },
  {
   "cell_type": "code",
   "execution_count": 25,
   "metadata": {},
   "outputs": [
    {
     "data": {
      "text/plain": [
       "Index(['id', 'words', 'country', 'website', 'title', 'text', 'lower_text',\n",
       "       'corpus', 'variant_detector_count', 'variant_detector_breakdown'],\n",
       "      dtype='object')"
      ]
     },
     "execution_count": 25,
     "metadata": {},
     "output_type": "execute_result"
    }
   ],
   "source": [
    "df.columns"
   ]
  },
  {
   "cell_type": "code",
   "execution_count": 26,
   "metadata": {},
   "outputs": [
    {
     "data": {
      "text/html": [
       "<div>\n",
       "<style scoped>\n",
       "    .dataframe tbody tr th:only-of-type {\n",
       "        vertical-align: middle;\n",
       "    }\n",
       "\n",
       "    .dataframe tbody tr th {\n",
       "        vertical-align: top;\n",
       "    }\n",
       "\n",
       "    .dataframe thead th {\n",
       "        text-align: right;\n",
       "    }\n",
       "</style>\n",
       "<table border=\"1\" class=\"dataframe\">\n",
       "  <thead>\n",
       "    <tr style=\"text-align: right;\">\n",
       "      <th></th>\n",
       "      <th>id</th>\n",
       "      <th>words</th>\n",
       "      <th>country</th>\n",
       "      <th>website</th>\n",
       "      <th>title</th>\n",
       "      <th>text</th>\n",
       "      <th>lower_text</th>\n",
       "      <th>corpus</th>\n",
       "      <th>variant_detector_count</th>\n",
       "      <th>variant_detector_breakdown</th>\n",
       "      <th>A_B</th>\n",
       "      <th>A_B_normalized</th>\n",
       "    </tr>\n",
       "  </thead>\n",
       "  <tbody>\n",
       "    <tr>\n",
       "      <th>0</th>\n",
       "      <td>11241</td>\n",
       "      <td>397</td>\n",
       "      <td>US</td>\n",
       "      <td>Kotaku</td>\n",
       "      <td>Author of The Warriors, Cult Film Adapted to H...</td>\n",
       "      <td>&lt;p&gt; Sol Yurick , the writer whose 1965 novel \"...</td>\n",
       "      <td>&lt;p&gt; sol yurick , the writer whose 1965 novel \"...</td>\n",
       "      <td>NOW</td>\n",
       "      <td>{}</td>\n",
       "      <td>{}</td>\n",
       "      <td>0</td>\n",
       "      <td>0.000000</td>\n",
       "    </tr>\n",
       "    <tr>\n",
       "      <th>1</th>\n",
       "      <td>11242</td>\n",
       "      <td>757</td>\n",
       "      <td>US</td>\n",
       "      <td>Michigan Radio</td>\n",
       "      <td>That's What They Say: Dialect Society chooses ...</td>\n",
       "      <td>&lt;h&gt; That 's What They Say : Dialect Society ch...</td>\n",
       "      <td>&lt;h&gt; that 's what they say : dialect society ch...</td>\n",
       "      <td>NOW</td>\n",
       "      <td>{'A': 3}</td>\n",
       "      <td>{'favorites': {'variant': 'A', 'count': 1}, 'b...</td>\n",
       "      <td>3</td>\n",
       "      <td>0.003963</td>\n",
       "    </tr>\n",
       "  </tbody>\n",
       "</table>\n",
       "</div>"
      ],
      "text/plain": [
       "      id  words country         website  \\\n",
       "0  11241    397      US          Kotaku   \n",
       "1  11242    757      US  Michigan Radio   \n",
       "\n",
       "                                               title  \\\n",
       "0  Author of The Warriors, Cult Film Adapted to H...   \n",
       "1  That's What They Say: Dialect Society chooses ...   \n",
       "\n",
       "                                                text  \\\n",
       "0  <p> Sol Yurick , the writer whose 1965 novel \"...   \n",
       "1  <h> That 's What They Say : Dialect Society ch...   \n",
       "\n",
       "                                          lower_text corpus  \\\n",
       "0  <p> sol yurick , the writer whose 1965 novel \"...    NOW   \n",
       "1  <h> that 's what they say : dialect society ch...    NOW   \n",
       "\n",
       "  variant_detector_count                         variant_detector_breakdown  \\\n",
       "0                     {}                                                 {}   \n",
       "1               {'A': 3}  {'favorites': {'variant': 'A', 'count': 1}, 'b...   \n",
       "\n",
       "   A_B  A_B_normalized  \n",
       "0    0        0.000000  \n",
       "1    3        0.003963  "
      ]
     },
     "execution_count": 26,
     "metadata": {},
     "output_type": "execute_result"
    }
   ],
   "source": [
    "df[\"A_B\"] = df.variant_detector_count.apply(lambda d:d.get(\"A\", 0) - d.get(\"B\", 0))\n",
    "df[\"A_B_normalized\"] = df.A_B / df.words\n",
    "\n",
    "df.head(2)\n",
    "    "
   ]
  },
  {
   "cell_type": "code",
   "execution_count": 27,
   "metadata": {},
   "outputs": [
    {
     "data": {
      "image/png": "[encoded data removed]",
      "text/plain": [
       "<Figure size 504x288 with 1 Axes>"
      ]
     },
     "metadata": {
      "needs_background": "light"
     },
     "output_type": "display_data"
    }
   ],
   "source": [
    "import matplotlib.pyplot as plt\n",
    "plt.style.use([\"science\", \"no-latex\"])\n",
    "plt.figure(figsize=(7,4))\n",
    "for c in df.country.unique():\n",
    "    subset = df.loc[df.country == c, \"A_B_normalized\"]\n",
    "    plt.hist(subset.values, label=c, histtype=\"step\", bins=60)\n",
    "\n",
    "plt.xlabel(\"American terms - Brittish terms per word\\n\"+\"source: \"+\"GloWBe-and-NOW-corpus-sample.json\")\n",
    "plt.title(\"Normalized A-B hits\")\n",
    "plt.legend()\n",
    "\n",
    "plt.savefig(\"images/A-B_normalized.png\")\n",
    "plt.show()"
   ]
  },
  {
   "cell_type": "code",
   "execution_count": 28,
   "metadata": {},
   "outputs": [
    {
     "data": {
      "image/png": "[encoded data removed]",
      "text/plain": [
       "<Figure size 504x288 with 1 Axes>"
      ]
     },
     "metadata": {
      "needs_background": "light"
     },
     "output_type": "display_data"
    }
   ],
   "source": [
    "import matplotlib.pyplot as plt\n",
    "plt.style.use([\"science\", \"no-latex\"])\n",
    "plt.figure(figsize=(7,4))\n",
    "for c in df.country.unique():\n",
    "    subset = df.loc[df.country == c, \"A_B\"]\n",
    "    plt.hist(subset.values, label=c, histtype=\"step\", bins=60)\n",
    "\n",
    "plt.xlabel(\"American terms - Brittish terms\\n\"+\"source: \"+\"GloWBe-and-NOW-corpus-sample.json\")\n",
    "plt.title(\"A-B hits\")\n",
    "plt.legend()\n",
    "plt.xlim((-20, 20))\n",
    "plt.savefig(\"images/A-B.png\")\n",
    "plt.show()"
   ]
  },
  {
   "cell_type": "code",
   "execution_count": 29,
   "metadata": {},
   "outputs": [
    {
     "data": {
      "text/plain": [
       "496"
      ]
     },
     "execution_count": 29,
     "metadata": {},
     "output_type": "execute_result"
    }
   ],
   "source": [
    "df.A_B.value_counts()[0]"
   ]
  },
  {
   "cell_type": "code",
   "execution_count": 30,
   "metadata": {},
   "outputs": [
    {
     "data": {
      "text/plain": [
       "(1445, 12)"
      ]
     },
     "execution_count": 30,
     "metadata": {},
     "output_type": "execute_result"
    }
   ],
   "source": [
    "df.shape"
   ]
  },
  {
   "cell_type": "code",
   "execution_count": null,
   "metadata": {},
   "outputs": [],
   "source": []
  }
 ],
 "metadata": {
  "interpreter": {
   "hash": "7f6f5766036ee03d059e365a942add07f79c17033585e9357ee8157d52fe6bb9"
  },
  "kernelspec": {
   "display_name": "Python 3.8.3 ('base')",
   "language": "python",
   "name": "python3"
  },
  "language_info": {
   "codemirror_mode": {
    "name": "ipython",
    "version": 3
   },
   "file_extension": ".py",
   "mimetype": "text/x-python",
   "name": "python",
   "nbconvert_exporter": "python",
   "pygments_lexer": "ipython3",
   "version": "3.8.3"
  },
  "orig_nbformat": 4
 },
 "nbformat": 4,
 "nbformat_minor": 2
}
