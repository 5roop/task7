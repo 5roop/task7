{
 "cells": [
  {
   "cell_type": "code",
   "execution_count": 1,
   "metadata": {},
   "outputs": [],
   "source": [
    "from utils import get_lexicon, preprocess, count_variants\n",
    "import logging\n",
    "logging.basicConfig(format='%(asctime)s %(message)s', level=logging.WARNING)\n",
    "\n",
    "\n",
    "lex = get_lexicon(min_length=3, only_verified=True)\n",
    "\n",
    "f = \"sample.txt\"\n",
    "with open(f, \"r\") as file:\n",
    "    sample = file.read()"
   ]
  },
  {
   "cell_type": "code",
   "execution_count": 2,
   "metadata": {},
   "outputs": [
    {
     "data": {
      "text/plain": [
       "({'A': 6, 'B': 1},\n",
       " {'airplanes': {'variant': 'A', 'count': 1},\n",
       "  'traveler': {'variant': 'A', 'count': 5},\n",
       "  'analyses': {'variant': 'B', 'count': 1}})"
      ]
     },
     "execution_count": 2,
     "metadata": {},
     "output_type": "execute_result"
    }
   ],
   "source": [
    "count_variants(sample, lex)\n"
   ]
  },
  {
   "cell_type": "code",
   "execution_count": 3,
   "metadata": {},
   "outputs": [
    {
     "data": {
      "text/plain": [
       "({'B': 2},\n",
       " {'analysed': {'variant': 'B', 'count': 1},\n",
       "  'atomiser': {'variant': 'B', 'count': 1}})"
      ]
     },
     "execution_count": 3,
     "metadata": {},
     "output_type": "execute_result"
    }
   ],
   "source": [
    "count_variants(\"We analysed Her Majesty's biscuits with an atomiser and found out they crumble ever so behovingly scrumptiously\", lex)"
   ]
  },
  {
   "cell_type": "code",
   "execution_count": 4,
   "metadata": {},
   "outputs": [],
   "source": [
    "import pandas as pd\n",
    "for file in [\"NOW-GB-corpus-sample.json\",  \"NOW-US-corpus-sample.json\", \"NOW-corpus-sample.json\" ]:\n",
    "    df = pd.read_json(f\"test-data/{file}\")\n",
    "    df[\"variant_detector_count\"] = df.lower_text.apply(lambda s: count_variants(s, lex)[0])\n",
    "    df[\"variant_detector_breakdown\"] = df.lower_text.apply(lambda s: count_variants(s, lex)[1])\n",
    "    df.to_json(f\"test-data/{file.replace('.json', '-output.json')}\", orient=\"records\", indent=4)"
   ]
  },
  {
   "cell_type": "code",
   "execution_count": 5,
   "metadata": {},
   "outputs": [
    {
     "data": {
      "text/plain": [
       "(2861, 11)"
      ]
     },
     "execution_count": 5,
     "metadata": {},
     "output_type": "execute_result"
    }
   ],
   "source": [
    "df.shape"
   ]
  }
 ],
 "metadata": {
  "interpreter": {
   "hash": "7f6f5766036ee03d059e365a942add07f79c17033585e9357ee8157d52fe6bb9"
  },
  "kernelspec": {
   "display_name": "Python 3.8.3 ('base')",
   "language": "python",
   "name": "python3"
  },
  "language_info": {
   "codemirror_mode": {
    "name": "ipython",
    "version": 3
   },
   "file_extension": ".py",
   "mimetype": "text/x-python",
   "name": "python",
   "nbconvert_exporter": "python",
   "pygments_lexer": "ipython3",
   "version": "3.8.3"
  },
  "orig_nbformat": 4
 },
 "nbformat": 4,
 "nbformat_minor": 2
}
