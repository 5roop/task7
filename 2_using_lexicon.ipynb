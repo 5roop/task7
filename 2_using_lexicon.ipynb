{
 "cells": [
  {
   "cell_type": "code",
   "execution_count": 6,
   "metadata": {},
   "outputs": [
    {
     "name": "stderr",
     "output_type": "stream",
     "text": [
      "2022-02-16 12:06:19,288 Weird formatting with >3 slashes:\n",
      "\t_: kabbalah / _v: cabala / _v: kabbala / _V: kabala / _V: cabbala / _V: cabbalah\n"
     ]
    }
   ],
   "source": [
    "from utils import get_lexicon, preprocess, count_variants\n",
    "import logging\n",
    "logging.basicConfig(format='%(asctime)s %(message)s', level=logging.INFO)\n",
    "\n",
    "\n",
    "lex = get_lexicon(min_length=3, only_verified=False)\n",
    "\n",
    "f = \"sample.txt\"\n",
    "with open(f, \"r\") as file:\n",
    "    sample = file.read()\n",
    "\n",
    "\n"
   ]
  },
  {
   "cell_type": "code",
   "execution_count": 7,
   "metadata": {},
   "outputs": [
    {
     "name": "stderr",
     "output_type": "stream",
     "text": [
      "2022-02-16 12:06:20,471 Found word airplanes, presumed variant: A.\n",
      "2022-02-16 12:06:20,472 Found word traveler, presumed variant: A.\n",
      "2022-02-16 12:06:20,473 Found word traveler, presumed variant: A.\n",
      "2022-02-16 12:06:20,474 Found word traveler, presumed variant: A.\n",
      "2022-02-16 12:06:20,474 Found word traveler, presumed variant: A.\n",
      "2022-02-16 12:06:20,475 Found word traveler, presumed variant: A.\n",
      "2022-02-16 12:06:20,476 Found word analyses, presumed variant: B.\n"
     ]
    },
    {
     "data": {
      "text/plain": [
       "({'A': 6, 'B': 1},\n",
       " {'airplanes': {'variant': 'A', 'count': 1},\n",
       "  'traveler': {'variant': 'A', 'count': 5},\n",
       "  'analyses': {'variant': 'B', 'count': 1}})"
      ]
     },
     "execution_count": 7,
     "metadata": {},
     "output_type": "execute_result"
    }
   ],
   "source": [
    "count_variants(sample, lex)\n"
   ]
  },
  {
   "cell_type": "code",
   "execution_count": 9,
   "metadata": {},
   "outputs": [
    {
     "name": "stderr",
     "output_type": "stream",
     "text": [
      "2022-02-16 12:08:07,465 Found word analysed, presumed variant: B.\n",
      "2022-02-16 12:08:07,466 Found word atomiser, presumed variant: B.\n",
      "2022-02-16 12:08:07,467 Found word behovingly, presumed variant: B.\n"
     ]
    },
    {
     "data": {
      "text/plain": [
       "({'B': 3},\n",
       " {'analysed': {'variant': 'B', 'count': 1},\n",
       "  'atomiser': {'variant': 'B', 'count': 1},\n",
       "  'behovingly': {'variant': 'B', 'count': 1}})"
      ]
     },
     "execution_count": 9,
     "metadata": {},
     "output_type": "execute_result"
    }
   ],
   "source": [
    "count_variants(\"We analysed Her Majesty's biscuits with an atomiser and found out they crumble ever so behovingly scrumptiously\", lex)"
   ]
  },
  {
   "cell_type": "code",
   "execution_count": null,
   "metadata": {},
   "outputs": [],
   "source": []
  }
 ],
 "metadata": {
  "interpreter": {
   "hash": "7f6f5766036ee03d059e365a942add07f79c17033585e9357ee8157d52fe6bb9"
  },
  "kernelspec": {
   "display_name": "Python 3.8.3 ('base')",
   "language": "python",
   "name": "python3"
  },
  "language_info": {
   "codemirror_mode": {
    "name": "ipython",
    "version": 3
   },
   "file_extension": ".py",
   "mimetype": "text/x-python",
   "name": "python",
   "nbconvert_exporter": "python",
   "pygments_lexer": "ipython3",
   "version": "3.8.3"
  },
  "orig_nbformat": 4
 },
 "nbformat": 4,
 "nbformat_minor": 2
}
