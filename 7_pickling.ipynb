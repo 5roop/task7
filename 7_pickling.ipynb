{
 "cells": [
  {
   "cell_type": "code",
   "execution_count": 17,
   "metadata": {},
   "outputs": [],
   "source": [
    "from utils import read_prevert, count_variants, get_lexicon, counts_to_category\n",
    "\n",
    "import pickle\n",
    "\n",
    "lex = get_lexicon()\n",
    "with open(\"lexicon.pickle\", \"wb\") as f:\n",
    "    pickle.dump(lex, f)\n",
    "\n",
    "def load_lexicon():\n",
    "    with open(\"lexicon.pickle\", \"rb\") as f:\n",
    "        lex = pickle.load(f)\n",
    "    return lex\n",
    "\n",
    "\n",
    "def get_variant(text: str) -> str:\n",
    "    lex = load_lexicon()\n",
    "    variant_detector_count = count_variants(text, lex)[0]\n",
    "    return counts_to_category(variant_detector_count) \n",
    "\n",
    "lex = load_lexicon()\n",
    "def get_variant_prelexed(text: str, lex) -> str:\n",
    "    variant_detector_count = count_variants(text, lex)[0]\n",
    "    return counts_to_category(variant_detector_count) \n",
    "\n"
   ]
  },
  {
   "cell_type": "code",
   "execution_count": 10,
   "metadata": {},
   "outputs": [
    {
     "name": "stdout",
     "output_type": "stream",
     "text": [
      "The line_profiler extension is already loaded. To reload it, use:\n",
      "  %reload_ext line_profiler\n"
     ]
    }
   ],
   "source": [
    "%load_ext line_profiler"
   ]
  },
  {
   "cell_type": "code",
   "execution_count": 16,
   "metadata": {},
   "outputs": [
    {
     "name": "stdout",
     "output_type": "stream",
     "text": [
      "968 µs ± 16.4 µs per loop (mean ± std. dev. of 7 runs, 1000 loops each)\n"
     ]
    }
   ],
   "source": [
    "%timeit get_variant(\"Cheerio, who amongst you would fancy a biscuit?\")"
   ]
  },
  {
   "cell_type": "code",
   "execution_count": 18,
   "metadata": {},
   "outputs": [
    {
     "name": "stdout",
     "output_type": "stream",
     "text": [
      "13.4 µs ± 149 ns per loop (mean ± std. dev. of 7 runs, 100000 loops each)\n"
     ]
    }
   ],
   "source": [
    "%timeit get_variant_prelexed(\"Cheerio, who amongst you would fancy a biscuit?\", lex)"
   ]
  },
  {
   "cell_type": "code",
   "execution_count": null,
   "metadata": {},
   "outputs": [],
   "source": []
  }
 ],
 "metadata": {
  "interpreter": {
   "hash": "7f6f5766036ee03d059e365a942add07f79c17033585e9357ee8157d52fe6bb9"
  },
  "kernelspec": {
   "display_name": "Python 3.8.3 ('base')",
   "language": "python",
   "name": "python3"
  },
  "language_info": {
   "codemirror_mode": {
    "name": "ipython",
    "version": 3
   },
   "file_extension": ".py",
   "mimetype": "text/x-python",
   "name": "python",
   "nbconvert_exporter": "python",
   "pygments_lexer": "ipython3",
   "version": "3.8.3"
  },
  "orig_nbformat": 4
 },
 "nbformat": 4,
 "nbformat_minor": 2
}
